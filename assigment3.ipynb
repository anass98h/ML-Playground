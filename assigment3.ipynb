{
 "cells": [
  {
   "cell_type": "markdown",
   "id": "7144165c",
   "metadata": {},
   "source": [
    "A. Conceptual Questions"
   ]
  },
  {
   "cell_type": "markdown",
   "id": "11690abc",
   "metadata": {},
   "source": [
    "\n",
    "\n",
    "the regression model:\n",
    "\n",
    "$$\n",
    "\\hat{Y} = \\beta_0 + \\beta_1 \\cdot GPA + \\beta_2 \\cdot IQ + \\beta_3 \\cdot Level + \\beta_4 \\cdot (GPA \\times IQ) + \\beta_5 \\cdot (GPA \\times Level)\n",
    "$$\n",
    "\n",
    "with the coefficients:\n",
    "\n",
    "$$\n",
    "\\beta_0 = 50,\\ \\beta_1 = 20,\\ \\beta_2 = 0.07,\\ \\beta_3 = 35,\\ \\beta_4 = 0.01,\\ \\beta_5 = -10\n",
    "$$\n",
    "\n",
    "\n",
    "\n",
    "---\n",
    "\n",
    "### we split into 2 eqution one for each group\n",
    "\n",
    "For **high school graduates** ($Level = 0$):\n",
    "\n",
    "$$\n",
    "\\hat{Y}_{HS} = 50 + 20 \\cdot GPA + 0.07 \\cdot IQ + 0.01 \\cdot (GPA \\cdot IQ)\n",
    "$$\n",
    "\n",
    "For **college graduates** ($Level =1$):\n",
    "\n",
    "$$\n",
    "\\hat{Y}_{College} = 50 + 20 \\cdot GPA + 0.07 \\cdot IQ + 35 + 0.01 \\cdot (GPA \\cdot IQ) -10 \\cdot GPA\n",
    "$$\n",
    "\n",
    "\n",
    "---\n",
    "\n",
    "### we take the diffrence between the two eqution :\n",
    "\n",
    "\n",
    "$$\n",
    "\\hat{Y}_{College} - \\hat{Y}_{HS} = [50 + 20 \\cdot GPA + 0.07 \\cdot IQ + 35 + 0.01 \\cdot (GPA \\cdot IQ) -10 \\cdot GPA] - [50 + 20 \\cdot GPA + 0.07 \\cdot IQ + 0.01 \\cdot (GPA \\cdot IQ)]\n",
    "$$\n",
    "\n",
    "Simplifies to:\n",
    "\n",
    "$$\n",
    "\\hat{Y}_{College} - \\hat{Y}_{HS} = 35 -10 \\cdot GPA\n",
    "$$\n",
    "\n",
    "---\n",
    "\n",
    "### then we find the intrsection \"the point where both earn the same\"\n",
    "\n",
    "\n",
    "\n",
    "$$\n",
    "35 -10 \\cdot GPA =0\n",
    "$$\n",
    "\n",
    "\n",
    "$$\n",
    "GPA =3.5\n",
    "$$\n",
    "\n",
    "---\n",
    "\n",
    "### this mean that 3.5 is our inflation point witche mean \n",
    "\n",
    "* If $GPA <3.5$, the difference is positive → college graduates earn more.\n",
    "* If $GPA =3.5$, the difference is zero → both groups earn the same.\n",
    "* If $GPA >3.5$, the difference is negative → high school graduates earn more.\n",
    "\n",
    "---\n",
    "\n",
    "### we can now compare to the statments and find that only one is correct\n",
    "\n",
    "\n",
    "> **(iii)** For a fixed value of IQ and GPA, high school graduates earn more, on average, than college graduates provided that the GPA is high enough."
   ]
  },
  {
   "cell_type": "markdown",
   "id": "a425bfa0",
   "metadata": {},
   "source": [
    "2. Predict the salary of a college graduate with IQ of 110 and a GPA of 4.0"
   ]
  },
  {
   "cell_type": "markdown",
   "id": "c5c5cc2b",
   "metadata": {},
   "source": [
    "\n",
    "\n",
    "\n",
    "we plug the values into our regration equation is:\n",
    "\n",
    "$$\n",
    "\\hat{Y} = \\beta_0 + \\beta_1 \\cdot GPA + \\beta_2 \\cdot IQ + \\beta_3 \\cdot Level + \\beta_4 \\cdot (GPA \\cdot IQ) + \\beta_5 \\cdot (GPA \\cdot Level)\n",
    "$$\n",
    "\n",
    "$$\n",
    "\\hat{Y} = 50 + 20 \\cdot 4.0 + 0.07 \\cdot 110 + 35 \\cdot 1 + 0.01 \\cdot (4.0 \\cdot 110) + (-10) \\cdot (4.0 \\cdot 1)\n",
    "$$\n",
    "\n",
    "\n",
    "\n",
    "### after pluging it in the calcultor we get\n",
    "\n",
    "$$\n",
    "\\boxed{\\hat{Y} = 137.1\\ \\text{(thousand dollars)}}\n",
    "$$\n",
    "\n"
   ]
  },
  {
   "cell_type": "markdown",
   "id": "af10300f",
   "metadata": {},
   "source": [
    "True or false: Since the coefficient for the GPA/IQ interaction term is very small,\n",
    "there is very little evidence of an interaction effect. Justify your answer.\n",
    "\n",
    "practicaly its true like the the answer of the prevuse qoution the effect was very small 4.4 out of 137 "
   ]
  },
  {
   "cell_type": "markdown",
   "id": "ad68df8b",
   "metadata": {},
   "source": [
    "B. Practical\n",
    "Overview of the steps\n",
    "1. Load the data and get an overview of the data\n",
    "2. Perform simple linear regressions\n",
    "3. Use the simple linear regression models\n",
    "4. Perform multiple linear regressions\n",
    "5. Use the multiple linear regression model\n",
    "Steps in detail\n",
    "Load the data and get an overview of the data\n",
    "Load the data file Boston.rda or Boston.csv ."
   ]
  },
  {
   "cell_type": "markdown",
   "id": "62fa9580",
   "metadata": {},
   "source": [
    "### Steps in Detail\n",
    "\n",
    "#### Load the Data and Get an Overview of the Data\n",
    "- Load the data file `Boston.csv`.\n",
    "\n"
   ]
  },
  {
   "cell_type": "code",
   "execution_count": 1,
   "id": "9d87969c",
   "metadata": {},
   "outputs": [],
   "source": [
    "import pandas as pd\n",
    "df = pd.read_csv(\"dataset/Boston.csv\", index_col=0)"
   ]
  },
  {
   "cell_type": "markdown",
   "id": "1a9d30ee",
   "metadata": {},
   "source": [
    "### Display the Number of Predictors and Their Names"
   ]
  },
  {
   "cell_type": "code",
   "execution_count": 2,
   "id": "78c996a7",
   "metadata": {},
   "outputs": [
    {
     "name": "stdout",
     "output_type": "stream",
     "text": [
      "14\n",
      "['crim', 'zn', 'indus', 'chas', 'nox', 'rm', 'age', 'dis', 'rad', 'tax', 'ptratio', 'black', 'lstat', 'medv']\n"
     ]
    }
   ],
   "source": [
    "print(df.shape[1])\n",
    "print(df.columns.tolist())"
   ]
  },
  {
   "cell_type": "markdown",
   "id": "d76e181a",
   "metadata": {},
   "source": [
    "### Print a Statistical Summary of the Predictors and the Response `medv`"
   ]
  },
  {
   "cell_type": "code",
   "execution_count": 3,
   "id": "dd9afe2c",
   "metadata": {},
   "outputs": [
    {
     "name": "stdout",
     "output_type": "stream",
     "text": [
      "             crim          zn       indus        chas         nox          rm  \\\n",
      "count  506.000000  506.000000  506.000000  506.000000  506.000000  506.000000   \n",
      "mean     3.613524   11.363636   11.136779    0.069170    0.554695    6.284634   \n",
      "std      8.601545   23.322453    6.860353    0.253994    0.115878    0.702617   \n",
      "min      0.006320    0.000000    0.460000    0.000000    0.385000    3.561000   \n",
      "25%      0.082045    0.000000    5.190000    0.000000    0.449000    5.885500   \n",
      "50%      0.256510    0.000000    9.690000    0.000000    0.538000    6.208500   \n",
      "75%      3.677083   12.500000   18.100000    0.000000    0.624000    6.623500   \n",
      "max     88.976200  100.000000   27.740000    1.000000    0.871000    8.780000   \n",
      "\n",
      "              age         dis         rad         tax     ptratio       black  \\\n",
      "count  506.000000  506.000000  506.000000  506.000000  506.000000  506.000000   \n",
      "mean    68.574901    3.795043    9.549407  408.237154   18.455534  356.674032   \n",
      "std     28.148861    2.105710    8.707259  168.537116    2.164946   91.294864   \n",
      "min      2.900000    1.129600    1.000000  187.000000   12.600000    0.320000   \n",
      "25%     45.025000    2.100175    4.000000  279.000000   17.400000  375.377500   \n",
      "50%     77.500000    3.207450    5.000000  330.000000   19.050000  391.440000   \n",
      "75%     94.075000    5.188425   24.000000  666.000000   20.200000  396.225000   \n",
      "max    100.000000   12.126500   24.000000  711.000000   22.000000  396.900000   \n",
      "\n",
      "            lstat        medv  \n",
      "count  506.000000  506.000000  \n",
      "mean    12.653063   22.532806  \n",
      "std      7.141062    9.197104  \n",
      "min      1.730000    5.000000  \n",
      "25%      6.950000   17.025000  \n",
      "50%     11.360000   21.200000  \n",
      "75%     16.955000   25.000000  \n",
      "max     37.970000   50.000000  \n"
     ]
    }
   ],
   "source": [
    "print(df.describe())"
   ]
  },
  {
   "cell_type": "markdown",
   "id": "bbe2118e",
   "metadata": {},
   "source": [
    "### Display the number of data points:"
   ]
  },
  {
   "cell_type": "code",
   "execution_count": 4,
   "id": "1da75040",
   "metadata": {},
   "outputs": [
    {
     "name": "stdout",
     "output_type": "stream",
     "text": [
      "506\n"
     ]
    }
   ],
   "source": [
    "print(df.shape[0])"
   ]
  },
  {
   "cell_type": "markdown",
   "id": "5c2e6fcb",
   "metadata": {},
   "source": [
    "### Display the data in a table (subset of rows is sufficient):\n"
   ]
  },
  {
   "cell_type": "code",
   "execution_count": 5,
   "id": "fa22017f",
   "metadata": {},
   "outputs": [
    {
     "name": "stdout",
     "output_type": "stream",
     "text": [
      "      crim    zn  indus  chas    nox     rm   age     dis  rad  tax  ptratio  \\\n",
      "1  0.00632  18.0   2.31     0  0.538  6.575  65.2  4.0900    1  296     15.3   \n",
      "2  0.02731   0.0   7.07     0  0.469  6.421  78.9  4.9671    2  242     17.8   \n",
      "3  0.02729   0.0   7.07     0  0.469  7.185  61.1  4.9671    2  242     17.8   \n",
      "4  0.03237   0.0   2.18     0  0.458  6.998  45.8  6.0622    3  222     18.7   \n",
      "5  0.06905   0.0   2.18     0  0.458  7.147  54.2  6.0622    3  222     18.7   \n",
      "\n",
      "    black  lstat  medv  \n",
      "1  396.90   4.98  24.0  \n",
      "2  396.90   9.14  21.6  \n",
      "3  392.83   4.03  34.7  \n",
      "4  394.63   2.94  33.4  \n",
      "5  396.90   5.33  36.2  \n"
     ]
    }
   ],
   "source": [
    "print(df.head())"
   ]
  },
  {
   "cell_type": "markdown",
   "id": "7e40f86a",
   "metadata": {},
   "source": [
    "### Plot some predictors (at least two) against the response values. We choose lstat , rm ,and age . i added crim and pupol-teacher ratio"
   ]
  },
  {
   "cell_type": "code",
   "execution_count": 6,
   "id": "05985455",
   "metadata": {},
   "outputs": [
    {
     "data": {
      "image/png": "[encoded data removed]",
      "text/plain": [
       "<Figure size 640x480 with 1 Axes>"
      ]
     },
     "metadata": {},
     "output_type": "display_data"
    },
    {
     "data": {
      "image/png": "[encoded data removed]",
      "text/plain": [
       "<Figure size 640x480 with 1 Axes>"
      ]
     },
     "metadata": {},
     "output_type": "display_data"
    },
    {
     "data": {
      "image/png": "[encoded data removed]",
      "text/plain": [
       "<Figure size 640x480 with 1 Axes>"
      ]
     },
     "metadata": {},
     "output_type": "display_data"
    },
    {
     "data": {
      "image/png": "[encoded data removed]",
      "text/plain": [
       "<Figure size 640x480 with 1 Axes>"
      ]
     },
     "metadata": {},
     "output_type": "display_data"
    },
    {
     "data": {
      "image/png": "[encoded data removed]",
      "text/plain": [
       "<Figure size 640x480 with 1 Axes>"
      ]
     },
     "metadata": {},
     "output_type": "display_data"
    }
   ],
   "source": [
    "import seaborn as sns\n",
    "import matplotlib.pyplot as plt\n",
    "sns.regplot(x='lstat', y='medv', data=df)\n",
    "plt.show()\n",
    "sns.regplot(x='rm', y='medv', data=df)\n",
    "plt.show()\n",
    "sns.regplot(x='age', y='medv', data=df)\n",
    "plt.show()\n",
    "sns.regplot(x='crim', y='medv', data=df)\n",
    "plt.show()\n",
    "sns.regplot(x='ptratio', y='medv', data=df)\n",
    "plt.show()"
   ]
  },
  {
   "cell_type": "markdown",
   "id": "85233765",
   "metadata": {},
   "source": [
    "### Perform Simple Linear Regressions\n",
    "\n",
    "Fit a simple linear regression model with `medv` as the response and some (at least two) predictors individually. We choose the following predictors:\n",
    "\n",
    "- `lstat`\n",
    "- `rm`\n",
    "- `age`\n",
    "\n",
    "i added \n",
    "\n",
    "- `crim`\n",
    "- `ptratio`"
   ]
  },
  {
   "cell_type": "code",
   "execution_count": 7,
   "id": "77b6dd76",
   "metadata": {},
   "outputs": [
    {
     "name": "stdout",
     "output_type": "stream",
     "text": [
      "this stats for lstat\n",
      "                            OLS Regression Results                            \n",
      "==============================================================================\n",
      "Dep. Variable:                   medv   R-squared:                       0.544\n",
      "Model:                            OLS   Adj. R-squared:                  0.543\n",
      "Method:                 Least Squares   F-statistic:                     601.6\n",
      "Date:                Sat, 10 May 2025   Prob (F-statistic):           5.08e-88\n",
      "Time:                        18:57:14   Log-Likelihood:                -1641.5\n",
      "No. Observations:                 506   AIC:                             3287.\n",
      "Df Residuals:                     504   BIC:                             3295.\n",
      "Df Model:                           1                                         \n",
      "Covariance Type:            nonrobust                                         \n",
      "==============================================================================\n",
      "                 coef    std err          t      P>|t|      [0.025      0.975]\n",
      "------------------------------------------------------------------------------\n",
      "const         34.5538      0.563     61.415      0.000      33.448      35.659\n",
      "lstat         -0.9500      0.039    -24.528      0.000      -1.026      -0.874\n",
      "==============================================================================\n",
      "Omnibus:                      137.043   Durbin-Watson:                   0.892\n",
      "Prob(Omnibus):                  0.000   Jarque-Bera (JB):              291.373\n",
      "Skew:                           1.453   Prob(JB):                     5.36e-64\n",
      "Kurtosis:                       5.319   Cond. No.                         29.7\n",
      "==============================================================================\n",
      "\n",
      "Notes:\n",
      "[1] Standard Errors assume that the covariance matrix of the errors is correctly specified.\n"
     ]
    }
   ],
   "source": [
    "import statsmodels.api as sm\n",
    "print(\"this stats for lstat\")\n",
    "X = sm.add_constant(df['lstat'])\n",
    "model_lstat = sm.OLS(df['medv'], X).fit()\n",
    "print(model_lstat.summary())\n",
    "\n"
   ]
  },
  {
   "cell_type": "code",
   "execution_count": 8,
   "id": "8de21d90",
   "metadata": {},
   "outputs": [
    {
     "name": "stdout",
     "output_type": "stream",
     "text": [
      "this stats for rm\n",
      "                            OLS Regression Results                            \n",
      "==============================================================================\n",
      "Dep. Variable:                   medv   R-squared:                       0.484\n",
      "Model:                            OLS   Adj. R-squared:                  0.483\n",
      "Method:                 Least Squares   F-statistic:                     471.8\n",
      "Date:                Sat, 10 May 2025   Prob (F-statistic):           2.49e-74\n",
      "Time:                        18:57:14   Log-Likelihood:                -1673.1\n",
      "No. Observations:                 506   AIC:                             3350.\n",
      "Df Residuals:                     504   BIC:                             3359.\n",
      "Df Model:                           1                                         \n",
      "Covariance Type:            nonrobust                                         \n",
      "==============================================================================\n",
      "                 coef    std err          t      P>|t|      [0.025      0.975]\n",
      "------------------------------------------------------------------------------\n",
      "const        -34.6706      2.650    -13.084      0.000     -39.877     -29.465\n",
      "rm             9.1021      0.419     21.722      0.000       8.279       9.925\n",
      "==============================================================================\n",
      "Omnibus:                      102.585   Durbin-Watson:                   0.684\n",
      "Prob(Omnibus):                  0.000   Jarque-Bera (JB):              612.449\n",
      "Skew:                           0.726   Prob(JB):                    1.02e-133\n",
      "Kurtosis:                       8.190   Cond. No.                         58.4\n",
      "==============================================================================\n",
      "\n",
      "Notes:\n",
      "[1] Standard Errors assume that the covariance matrix of the errors is correctly specified.\n"
     ]
    }
   ],
   "source": [
    "print(\"this stats for rm\")\n",
    "X = sm.add_constant(df['rm'])\n",
    "model_rm = sm.OLS(df['medv'], X).fit()\n",
    "print(model_rm.summary())\n"
   ]
  },
  {
   "cell_type": "code",
   "execution_count": 9,
   "id": "804ef7f7",
   "metadata": {},
   "outputs": [
    {
     "name": "stdout",
     "output_type": "stream",
     "text": [
      "this stats for age\n",
      "                            OLS Regression Results                            \n",
      "==============================================================================\n",
      "Dep. Variable:                   medv   R-squared:                       0.142\n",
      "Model:                            OLS   Adj. R-squared:                  0.140\n",
      "Method:                 Least Squares   F-statistic:                     83.48\n",
      "Date:                Sat, 10 May 2025   Prob (F-statistic):           1.57e-18\n",
      "Time:                        18:57:14   Log-Likelihood:                -1801.5\n",
      "No. Observations:                 506   AIC:                             3607.\n",
      "Df Residuals:                     504   BIC:                             3615.\n",
      "Df Model:                           1                                         \n",
      "Covariance Type:            nonrobust                                         \n",
      "==============================================================================\n",
      "                 coef    std err          t      P>|t|      [0.025      0.975]\n",
      "------------------------------------------------------------------------------\n",
      "const         30.9787      0.999     31.006      0.000      29.016      32.942\n",
      "age           -0.1232      0.013     -9.137      0.000      -0.150      -0.097\n",
      "==============================================================================\n",
      "Omnibus:                      170.034   Durbin-Watson:                   0.613\n",
      "Prob(Omnibus):                  0.000   Jarque-Bera (JB):              456.983\n",
      "Skew:                           1.671   Prob(JB):                    5.85e-100\n",
      "Kurtosis:                       6.240   Cond. No.                         195.\n",
      "==============================================================================\n",
      "\n",
      "Notes:\n",
      "[1] Standard Errors assume that the covariance matrix of the errors is correctly specified.\n"
     ]
    }
   ],
   "source": [
    "print(\"this stats for age\")\n",
    "X = sm.add_constant(df['age'])\n",
    "model_age = sm.OLS(df['medv'], X).fit()\n",
    "print(model_age.summary())\n"
   ]
  },
  {
   "cell_type": "code",
   "execution_count": 10,
   "id": "347b0660",
   "metadata": {},
   "outputs": [
    {
     "name": "stdout",
     "output_type": "stream",
     "text": [
      "this stats for crim\n",
      "                            OLS Regression Results                            \n",
      "==============================================================================\n",
      "Dep. Variable:                   medv   R-squared:                       0.151\n",
      "Model:                            OLS   Adj. R-squared:                  0.149\n",
      "Method:                 Least Squares   F-statistic:                     89.49\n",
      "Date:                Sat, 10 May 2025   Prob (F-statistic):           1.17e-19\n",
      "Time:                        18:57:14   Log-Likelihood:                -1798.9\n",
      "No. Observations:                 506   AIC:                             3602.\n",
      "Df Residuals:                     504   BIC:                             3610.\n",
      "Df Model:                           1                                         \n",
      "Covariance Type:            nonrobust                                         \n",
      "==============================================================================\n",
      "                 coef    std err          t      P>|t|      [0.025      0.975]\n",
      "------------------------------------------------------------------------------\n",
      "const         24.0331      0.409     58.740      0.000      23.229      24.837\n",
      "crim          -0.4152      0.044     -9.460      0.000      -0.501      -0.329\n",
      "==============================================================================\n",
      "Omnibus:                      139.832   Durbin-Watson:                   0.713\n",
      "Prob(Omnibus):                  0.000   Jarque-Bera (JB):              295.404\n",
      "Skew:                           1.490   Prob(JB):                     7.14e-65\n",
      "Kurtosis:                       5.264   Cond. No.                         10.1\n",
      "==============================================================================\n",
      "\n",
      "Notes:\n",
      "[1] Standard Errors assume that the covariance matrix of the errors is correctly specified.\n"
     ]
    }
   ],
   "source": [
    "print(\"this stats for crim\")\n",
    "X = sm.add_constant(df['crim'])\n",
    "model_crim = sm.OLS(df['medv'], X).fit()\n",
    "print(model_crim.summary())\n"
   ]
  },
  {
   "cell_type": "code",
   "execution_count": 11,
   "id": "db6a497d",
   "metadata": {},
   "outputs": [
    {
     "name": "stdout",
     "output_type": "stream",
     "text": [
      "this stats for ptratio\n",
      "                            OLS Regression Results                            \n",
      "==============================================================================\n",
      "Dep. Variable:                   medv   R-squared:                       0.258\n",
      "Model:                            OLS   Adj. R-squared:                  0.256\n",
      "Method:                 Least Squares   F-statistic:                     175.1\n",
      "Date:                Sat, 10 May 2025   Prob (F-statistic):           1.61e-34\n",
      "Time:                        18:57:14   Log-Likelihood:                -1764.8\n",
      "No. Observations:                 506   AIC:                             3534.\n",
      "Df Residuals:                     504   BIC:                             3542.\n",
      "Df Model:                           1                                         \n",
      "Covariance Type:            nonrobust                                         \n",
      "==============================================================================\n",
      "                 coef    std err          t      P>|t|      [0.025      0.975]\n",
      "------------------------------------------------------------------------------\n",
      "const         62.3446      3.029     20.581      0.000      56.393      68.296\n",
      "ptratio       -2.1572      0.163    -13.233      0.000      -2.477      -1.837\n",
      "==============================================================================\n",
      "Omnibus:                       92.924   Durbin-Watson:                   0.725\n",
      "Prob(Omnibus):                  0.000   Jarque-Bera (JB):              191.444\n",
      "Skew:                           1.001   Prob(JB):                     2.68e-42\n",
      "Kurtosis:                       5.252   Cond. No.                         160.\n",
      "==============================================================================\n",
      "\n",
      "Notes:\n",
      "[1] Standard Errors assume that the covariance matrix of the errors is correctly specified.\n"
     ]
    }
   ],
   "source": [
    "print(\"this stats for ptratio\")\n",
    "X = sm.add_constant(df['ptratio'])\n",
    "model_ptratio = sm.OLS(df['medv'], X).fit()\n",
    "print(model_ptratio.summary())"
   ]
  },
  {
   "cell_type": "markdown",
   "id": "04310238",
   "metadata": {},
   "source": [
    "### Percent of low socioeconomic status households (`lstat`) vs house price\n",
    "\n",
    "From the summary stats, `lstat` ranges from ~1.7 to ~38, showing a wide spread and likely right-skewed distribution.\n",
    "\n",
    "When we plot it, we see a clear **negative relationship** — as `lstat` increases, `medv` decreases. This makes sense: poorer neighborhoods tend to have lower house prices, and the data strongly support that.\n",
    "\n",
    "From the regression, each +1% in low-status households is linked to about a **$950 drop** in median price. It’s the strongest predictor so far, explaining **54% of the variation** in prices.\n",
    "\n",
    "In simple terms, wealthier neighborhoods have much higher home values — which is exactly what we’d expect.\n",
    "\n",
    "---\n",
    "\n",
    "### Average number of rooms per house (`rm`) vs house price\n",
    "\n",
    "Summary stats show `rm` ranges from ~3.6 to ~8.8 rooms, with a fairly balanced spread.\n",
    "\n",
    "On the plot, we see a **strong positive relationship** — more rooms per house clearly lead to higher prices. Again, this feels intuitive: larger homes tend to be more expensive.\n",
    "\n",
    "The regression tells us each additional room adds about **$9,100** to the median price. It explains **48% of the variation**, making it one of the top predictors.\n",
    "\n",
    "Simply put, bigger houses are worth more — no surprise, but it’s great to see the numbers back it up.\n",
    "\n",
    "---\n",
    "\n",
    "### Age of houses (`age`) vs house price\n",
    "\n",
    "The age variable ranges from ~2.9% to 100% old units, with a right-skewed pattern (lots of old houses).\n",
    "\n",
    "The plot shows a **negative relationship**, though weaker than `lstat` or `rm`. As houses get older, prices tend to go down slightly. This makes sense: newer homes or neighborhoods often attract higher prices because of better condition or updated amenities.\n",
    "\n",
    "The regression shows each +1% increase in old units lowers price by about **$120**. But it only explains **14% of the variation** — so it’s a weaker predictor.\n",
    "\n",
    "In short, older neighborhoods slightly reduce house values, but they’re not the main price driver.\n",
    "\n",
    "---\n",
    "\n",
    "### Crime rate per capita (`crim`) vs house price\n",
    "\n",
    "Summary stats show `crim` ranges from ~0.006 to ~89 — a huge range with major right skew and clear outliers.\n",
    "\n",
    "The plot shows a **negative but noisy relationship** — higher crime is linked to lower prices, but the scatter is messy. This aligns with intuition: people prefer safer neighborhoods, but the relationship here isn’t as tight as we might expect.\n",
    "\n",
    "Regression tells us each unit increase in crime rate reduces median price by about **$420**, but it explains only **15% of the variation**.\n",
    "\n",
    "In simple terms, higher crime weakly lowers house prices, but it’s not a main factor compared to wealth or house size.\n",
    "\n",
    "---\n",
    "\n",
    "### Pupil-teacher ratio (`ptratio`) vs house price\n",
    "\n",
    "`ptratio` ranges from ~12.6 to ~22, with moderate spread.\n",
    "\n",
    "The plot reveals a **negative relationship** — as class sizes get bigger (more students per teacher), home prices drop. This makes sense because good schools are a key selling point for families, and overcrowded schools can signal lower community investment.\n",
    "\n",
    "The regression shows each additional student per teacher cuts median price by about **$2,160**, explaining **26% of the variation**.\n",
    "\n",
    "In short, school quality matters — neighborhoods with better student-teacher ratios tend to have more expensive homes.\n",
    "\n",
    "---\n",
    "\n",
    "### ✅ Notes\n",
    "\n",
    "- All predictors have **p < 0.001 → statistically significant**.\n",
    "- **lstat** and **rm** are the top predictors (highest R²).\n",
    "- **crim, age, ptratio** have much smaller explanatory power (low R²).\n"
   ]
  },
  {
   "cell_type": "markdown",
   "id": "b6913577",
   "metadata": {},
   "source": [
    "### Obtain a confidence interval for the coefficient estimates for the individual models.\n"
   ]
  },
  {
   "cell_type": "code",
   "execution_count": 12,
   "id": "21b6a137",
   "metadata": {},
   "outputs": [
    {
     "name": "stdout",
     "output_type": "stream",
     "text": [
      "this is confidence interval for lstat\n",
      "               0          1\n",
      "const  33.448457  35.659225\n",
      "lstat  -1.026148  -0.873951\n",
      "this is confidence interval for rm\n",
      "               0          1\n",
      "const -39.876641 -29.464601\n",
      "rm      8.278855   9.925363\n",
      "this is confidence interval for age\n",
      "               0          1\n",
      "const  29.015752  32.941604\n",
      "age    -0.149647  -0.096679\n",
      "this is confidence interval for crim\n",
      "               0         1\n",
      "const  23.229272  24.83694\n",
      "crim   -0.501421  -0.32896\n",
      "this is confidence interval for ptratio\n",
      "                 0          1\n",
      "const    56.393267  68.295988\n",
      "ptratio  -2.477454  -1.836897\n"
     ]
    }
   ],
   "source": [
    "print(\"this is confidence interval for lstat\")\n",
    "print(model_lstat.conf_int())\n",
    "print(\"this is confidence interval for rm\")\n",
    "print(model_rm.conf_int())\n",
    "print(\"this is confidence interval for age\")\n",
    "print(model_age.conf_int())\n",
    "print(\"this is confidence interval for crim\")\n",
    "print(model_crim.conf_int())\n",
    "print(\"this is confidence interval for ptratio\")\n",
    "print(model_ptratio.conf_int())"
   ]
  },
  {
   "cell_type": "markdown",
   "id": "ad404c37",
   "metadata": {},
   "source": [
    "### 📊 Interpretation of confidence intervals\n",
    "\n",
    "---\n",
    "\n",
    "**Percent of low socioeconomic status households (`lstat`)**\n",
    "\n",
    "From the confidence interval, the intercept is between 33.45 and 35.66,  \n",
    "and the slope for `lstat` is between **−1.03 and −0.87**.\n",
    "\n",
    "What this tells us:  \n",
    "We’re 95% confident that for each +1% increase in low-status households, median price goes down by between **$870 and $1,030**.  \n",
    "The interval is fully negative → this is a strong, consistently negative effect.\n",
    "\n",
    "---\n",
    "\n",
    "**Average number of rooms (`rm`)**\n",
    "\n",
    "The intercept ranges between −39.88 and −29.46,  \n",
    "and the slope for `rm` is between **8.28 and 9.93**.\n",
    "\n",
    "What this tells us:  \n",
    "We’re 95% confident that each extra room adds **$8,280 to $9,930** to the median price.  \n",
    "The interval is fully positive → this is a strong and reliably positive effect.\n",
    "\n",
    "---\n",
    "\n",
    "**Age of houses (`age`)**\n",
    "\n",
    "The intercept ranges between 29.02 and 32.94,  \n",
    "and the slope for `age` is between **−0.15 and −0.10**.\n",
    "\n",
    "What this tells us:  \n",
    "We’re 95% confident that every +1% in old units reduces median price by between **$100 and $150**.  \n",
    "The effect is consistently negative, though smaller compared to the top predictors.\n",
    "\n",
    "---\n",
    "\n",
    "**Crime rate per capita (`crim`)**\n",
    "\n",
    "The intercept is between 23.23 and 24.84,  \n",
    "and the slope for `crim` is between **−0.50 and −0.33**.\n",
    "\n",
    "What this tells us:  \n",
    "We’re 95% confident that each unit increase in crime rate lowers the median price by between **$330 and $500**.  \n",
    "The relationship is moderately negative and quite consistent.\n",
    "\n",
    "---\n",
    "\n",
    "**Pupil-teacher ratio (`ptratio`)**\n",
    "\n",
    "The intercept is between 56.39 and 68.30,  \n",
    "and the slope for `ptratio` is between **−2.48 and −1.84**.\n",
    "\n",
    "What this tells us:  \n",
    "We’re 95% confident that each extra student per teacher reduces median price by between **$1,840 and $2,480**.  \n",
    "The effect is clearly negative and meaningful.\n",
    "\n",
    "---\n",
    "\n",
    "### ✅ Summary notes\n",
    "\n",
    "- All predictors have **tight, narrow confidence intervals** → we’re pretty confident in the estimates.\n",
    "- None of the intervals cross zero → all effects are statistically significant.\n",
    "- The direction of the effects matches our earlier findings:\n",
    "    - `lstat`, `age`, `crim`, `ptratio` → negative effect on price  \n",
    "    - `rm` → positive effect on price\n"
   ]
  },
  {
   "cell_type": "markdown",
   "id": "ad4dd164",
   "metadata": {},
   "source": [
    "### Use the Simple Linear Regression Models\n",
    "\n",
    "Predict the `medv` response values for some selected predictor values. Calculate the prediction intervals for these values."
   ]
  },
  {
   "cell_type": "code",
   "execution_count": 13,
   "id": "cd216219",
   "metadata": {},
   "outputs": [
    {
     "name": "stdout",
     "output_type": "stream",
     "text": [
      "        mean   mean_se  mean_ci_lower  mean_ci_upper  obs_ci_lower  \\\n",
      "0  29.803594  0.405247      29.007412      30.599776     17.565675   \n",
      "1  25.053347  0.294814      24.474132      25.632563     12.827626   \n",
      "2  20.303101  0.290893      19.731588      20.874613      8.077742   \n",
      "\n",
      "   obs_ci_upper  \n",
      "0     42.041513  \n",
      "1     37.279068  \n",
      "2     32.528459  \n"
     ]
    }
   ],
   "source": [
    "new_lstat = sm.add_constant(pd.DataFrame({'lstat':[5,10,15]}))\n",
    "print(model_lstat.get_prediction(new_lstat).summary_frame(alpha=0.05))"
   ]
  },
  {
   "cell_type": "code",
   "execution_count": 14,
   "id": "f266e949",
   "metadata": {},
   "outputs": [
    {
     "name": "stdout",
     "output_type": "stream",
     "text": [
      "        mean   mean_se  mean_ci_lower  mean_ci_upper  obs_ci_lower  \\\n",
      "0  10.839924  0.613410       9.634769      12.045079     -2.214474   \n",
      "1  24.493088  0.307657      23.888639      25.097536     11.480391   \n",
      "2  38.146251  0.776633      36.620414      39.672088     25.058353   \n",
      "\n",
      "   obs_ci_upper  \n",
      "0     23.894322  \n",
      "1     37.505784  \n",
      "2     51.234149  \n"
     ]
    }
   ],
   "source": [
    "new_rm = sm.add_constant(pd.DataFrame({'rm':[5,6.5,8]}))\n",
    "print(model_rm.get_prediction(new_rm).summary_frame(alpha=0.05))"
   ]
  },
  {
   "cell_type": "code",
   "execution_count": 15,
   "id": "ab14e929",
   "metadata": {},
   "outputs": [
    {
     "name": "stdout",
     "output_type": "stream",
     "text": [
      "        mean   mean_se  mean_ci_lower  mean_ci_upper  obs_ci_lower  \\\n",
      "0  27.899610  0.699094      26.526112      29.273107     11.090368   \n",
      "1  24.820542  0.454307      23.927973      25.713110      8.043748   \n",
      "2  21.741474  0.388844      20.977518      22.505429      4.971031   \n",
      "\n",
      "   obs_ci_upper  \n",
      "0     44.708852  \n",
      "1     41.597335  \n",
      "2     38.511917  \n"
     ]
    }
   ],
   "source": [
    "new_age = sm.add_constant(pd.DataFrame({'age':[25,50,75]}))\n",
    "print(model_age.get_prediction(new_age).summary_frame(alpha=0.05))"
   ]
  },
  {
   "cell_type": "code",
   "execution_count": 16,
   "id": "298f5f53",
   "metadata": {},
   "outputs": [
    {
     "name": "stdout",
     "output_type": "stream",
     "text": [
      "        mean   mean_se  mean_ci_lower  mean_ci_upper  obs_ci_lower  \\\n",
      "0  23.991587  0.407461      23.191056      24.792118      7.304363   \n",
      "1  23.617916  0.394210      22.843418      24.392413      6.931921   \n",
      "2  21.957155  0.382030      21.206588      22.707721      5.272253   \n",
      "\n",
      "   obs_ci_upper  \n",
      "0     40.678811  \n",
      "1     40.303911  \n",
      "2     38.642056  \n"
     ]
    }
   ],
   "source": [
    "new_crim = sm.add_constant(pd.DataFrame({'crim':[0.1,1,5]}))\n",
    "print(model_crim.get_prediction(new_crim).summary_frame(alpha=0.05))"
   ]
  },
  {
   "cell_type": "code",
   "execution_count": 17,
   "id": "d270e440",
   "metadata": {},
   "outputs": [
    {
     "name": "stdout",
     "output_type": "stream",
     "text": [
      "        mean   mean_se  mean_ci_lower  mean_ci_upper  obs_ci_lower  \\\n",
      "0  29.986998  0.664554      28.681360      31.292636     14.350492   \n",
      "1  23.515472  0.360312      22.807574      24.223370      7.917500   \n",
      "2  17.043946  0.544393      15.974387      18.113505      1.425381   \n",
      "\n",
      "   obs_ci_upper  \n",
      "0     45.623504  \n",
      "1     39.113444  \n",
      "2     32.662511  \n"
     ]
    }
   ],
   "source": [
    "new_ptratio = sm.add_constant(pd.DataFrame({'ptratio':[15,18,21]}))\n",
    "print(model_ptratio.get_prediction(new_ptratio).summary_frame(alpha=0.05))"
   ]
  },
  {
   "cell_type": "markdown",
   "id": "927b2c71",
   "metadata": {},
   "source": [
    "For the two variables I added, `crim` and `ptratio`, I chose the intervals after looking at the summary statistics at the beginning of the experiment; what I ended up with is `crim = [0.1, 1, 5]` and `ptratio = [15, 18, 21]` because these cover low, medium, and high values without going into extreme outliers, giving a realistic and interpretable range.\n"
   ]
  },
  {
   "cell_type": "markdown",
   "id": "86a58c51",
   "metadata": {},
   "source": [
    "### 📊 Interpretation of predicted house prices and intervals\n",
    "\n",
    "---\n",
    "\n",
    "**`lstat` (low socioeconomic households)**  \n",
    "- 5% → $29.8k (range $17.6k–$42.0k)  \n",
    "- 10% → $25.1k (range $12.8k–$37.3k)  \n",
    "- 15% → $20.3k (range $8.1k–$32.5k)  \n",
    "\n",
    "As `lstat` increases, prices drop steadily. Poorer neighborhoods have lower home values. The prediction intervals shrink slightly as `lstat` rises, suggesting a bit less uncertainty in low-price areas.\n",
    "\n",
    "---\n",
    "\n",
    "**`rm` (number of rooms)**  \n",
    "- 5 rooms → $10.8k (−$2.2k–$23.9k)  \n",
    "- 6.5 rooms → $24.5k ($11.5k–$37.5k)  \n",
    "- 8 rooms → $38.1k ($25.1k–$51.2k)  \n",
    "\n",
    "More rooms strongly increase price. The intervals widen as room count increases, showing more price variability among large homes.\n",
    "\n",
    "---\n",
    "\n",
    "**`age` (percent old houses)**  \n",
    "- 25% → $27.9k ($11.1k–$44.7k)  \n",
    "- 50% → $24.8k ($8.0k–$41.6k)  \n",
    "- 75% → $21.7k ($5.0k–$38.5k)  \n",
    "\n",
    "Older areas show a slight price drop, but intervals stay fairly wide across all levels. This suggests mixed price outcomes no matter the age.\n",
    "\n",
    "---\n",
    "\n",
    "**`crim` (crime rate)**  \n",
    "- 0.1 → $24.0k ($7.3k–$40.7k)  \n",
    "- 1 → $23.6k ($6.9k–$40.3k)  \n",
    "- 5 → $22.0k ($5.3k–$38.6k)  \n",
    "\n",
    "Higher crime slightly lowers price, but the intervals stay wide, meaning the effect of crime on price can vary a lot between neighborhoods.\n",
    "\n",
    "---\n",
    "\n",
    "**`ptratio` (pupil-teacher ratio)**  \n",
    "- 15 → $30.0k ($14.4k–$45.6k)  \n",
    "- 18 → $23.5k ($7.9k–$39.1k)  \n",
    "- 21 → $17.0k ($1.4k–$32.7k)  \n",
    "\n",
    "Better schools (lower ratios) raise prices. The intervals widen as the ratio increases, reflecting more price uncertainty in areas with crowded schools.\n",
    "\n",
    "---\n"
   ]
  },
  {
   "cell_type": "markdown",
   "id": "da3310e6",
   "metadata": {},
   "source": [
    "\n",
    "### Perform Multiple Linear Regressions\n",
    "\n",
    "Fit `medv` as the response with the previously selected predictors (`lstat`, `rm`, `age`, `crim`, `ptratio`) altogether."
   ]
  },
  {
   "cell_type": "code",
   "execution_count": 18,
   "id": "914a67c7",
   "metadata": {},
   "outputs": [
    {
     "name": "stdout",
     "output_type": "stream",
     "text": [
      "                            OLS Regression Results                            \n",
      "==============================================================================\n",
      "Dep. Variable:                   medv   R-squared:                       0.683\n",
      "Model:                            OLS   Adj. R-squared:                  0.680\n",
      "Method:                 Least Squares   F-statistic:                     215.9\n",
      "Date:                Sat, 10 May 2025   Prob (F-statistic):          2.24e-122\n",
      "Time:                        18:57:14   Log-Likelihood:                -1549.2\n",
      "No. Observations:                 506   AIC:                             3110.\n",
      "Df Residuals:                     500   BIC:                             3136.\n",
      "Df Model:                           5                                         \n",
      "Covariance Type:            nonrobust                                         \n",
      "==============================================================================\n",
      "                 coef    std err          t      P>|t|      [0.025      0.975]\n",
      "------------------------------------------------------------------------------\n",
      "const         17.5695      3.985      4.409      0.000       9.741      25.398\n",
      "lstat         -0.5836      0.054    -10.889      0.000      -0.689      -0.478\n",
      "rm             4.4604      0.436     10.235      0.000       3.604       5.317\n",
      "age            0.0185      0.011      1.746      0.082      -0.002       0.039\n",
      "crim          -0.0699      0.031     -2.264      0.024      -0.130      -0.009\n",
      "ptratio       -0.9049      0.119     -7.610      0.000      -1.139      -0.671\n",
      "==============================================================================\n",
      "Omnibus:                      203.884   Durbin-Watson:                   0.921\n",
      "Prob(Omnibus):                  0.000   Jarque-Bera (JB):             1008.072\n",
      "Skew:                           1.728   Prob(JB):                    1.26e-219\n",
      "Kurtosis:                       8.989   Cond. No.                     1.34e+03\n",
      "==============================================================================\n",
      "\n",
      "Notes:\n",
      "[1] Standard Errors assume that the covariance matrix of the errors is correctly specified.\n",
      "[2] The condition number is large, 1.34e+03. This might indicate that there are\n",
      "strong multicollinearity or other numerical problems.\n"
     ]
    }
   ],
   "source": [
    "X = sm.add_constant(df[['lstat','rm','age','crim','ptratio']])\n",
    "model_5 = sm.OLS(df['medv'], X).fit()\n",
    "print(model_5.summary())"
   ]
  },
  {
   "cell_type": "markdown",
   "id": "8e8cc474",
   "metadata": {},
   "source": [
    "### 📊 Interpretation of multiple linear regression (`lstat`, `rm`, `age`, `crim`, `ptratio`)\n",
    "\n",
    "The model explains about **68%** of the variation in housing prices (`R² = 0.683`), which is a big improvement over the single-variable models.\n",
    "\n",
    "---\n",
    "\n",
    "**Intercept (`const`)** → $17.6k  \n",
    "This is the baseline price when all predictors are zero — mostly theoretical but useful for the model.\n",
    "\n",
    "---\n",
    "\n",
    "**`lstat` (low socioeconomic households)** → coef −0.58  \n",
    "As `lstat` increases by 1%, price drops about **$580**. The negative effect stays strong even after controlling for other predictors.\n",
    "\n",
    "---\n",
    "\n",
    "**`rm` (number of rooms)** → coef +4.46  \n",
    "Each extra room adds about **$4,460** to the price. Still a strong positive effect, though smaller than in the simple model.\n",
    "\n",
    "---\n",
    "\n",
    "**`age` (percent old houses)** → coef +0.018  \n",
    "This turns slightly positive but is **not significant** (`p = 0.082`). Age no longer matters much once we control for other factors.\n",
    "\n",
    "---\n",
    "\n",
    "**`crim` (crime rate)** → coef −0.07  \n",
    "Each unit increase in crime lowers price by about **$70**. The effect is small but statistically significant (`p = 0.024`).\n",
    "\n",
    "---\n",
    "\n",
    "**`ptratio` (pupil-teacher ratio)** → coef −0.90  \n",
    "Each extra student per teacher reduces price by about **$900**. The negative impact of crowded schools remains strong.\n",
    "\n",
    "---\n",
    "\n",
    "\n",
    "- The model improves overall fit `age` lost its importance when combined with others.  "
   ]
  },
  {
   "cell_type": "markdown",
   "id": "acc6dd7d",
   "metadata": {},
   "source": [
    "### Fit medv as response with all available predictors altogether."
   ]
  },
  {
   "cell_type": "code",
   "execution_count": 19,
   "id": "ab514936",
   "metadata": {},
   "outputs": [
    {
     "name": "stdout",
     "output_type": "stream",
     "text": [
      "                            OLS Regression Results                            \n",
      "==============================================================================\n",
      "Dep. Variable:                   medv   R-squared:                       0.741\n",
      "Model:                            OLS   Adj. R-squared:                  0.734\n",
      "Method:                 Least Squares   F-statistic:                     108.1\n",
      "Date:                Sat, 10 May 2025   Prob (F-statistic):          6.72e-135\n",
      "Time:                        18:57:15   Log-Likelihood:                -1498.8\n",
      "No. Observations:                 506   AIC:                             3026.\n",
      "Df Residuals:                     492   BIC:                             3085.\n",
      "Df Model:                          13                                         \n",
      "Covariance Type:            nonrobust                                         \n",
      "==============================================================================\n",
      "                 coef    std err          t      P>|t|      [0.025      0.975]\n",
      "------------------------------------------------------------------------------\n",
      "const         36.4595      5.103      7.144      0.000      26.432      46.487\n",
      "crim          -0.1080      0.033     -3.287      0.001      -0.173      -0.043\n",
      "zn             0.0464      0.014      3.382      0.001       0.019       0.073\n",
      "indus          0.0206      0.061      0.334      0.738      -0.100       0.141\n",
      "chas           2.6867      0.862      3.118      0.002       0.994       4.380\n",
      "nox          -17.7666      3.820     -4.651      0.000     -25.272     -10.262\n",
      "rm             3.8099      0.418      9.116      0.000       2.989       4.631\n",
      "age            0.0007      0.013      0.052      0.958      -0.025       0.027\n",
      "dis           -1.4756      0.199     -7.398      0.000      -1.867      -1.084\n",
      "rad            0.3060      0.066      4.613      0.000       0.176       0.436\n",
      "tax           -0.0123      0.004     -3.280      0.001      -0.020      -0.005\n",
      "ptratio       -0.9527      0.131     -7.283      0.000      -1.210      -0.696\n",
      "black          0.0093      0.003      3.467      0.001       0.004       0.015\n",
      "lstat         -0.5248      0.051    -10.347      0.000      -0.624      -0.425\n",
      "==============================================================================\n",
      "Omnibus:                      178.041   Durbin-Watson:                   1.078\n",
      "Prob(Omnibus):                  0.000   Jarque-Bera (JB):              783.126\n",
      "Skew:                           1.521   Prob(JB):                    8.84e-171\n",
      "Kurtosis:                       8.281   Cond. No.                     1.51e+04\n",
      "==============================================================================\n",
      "\n",
      "Notes:\n",
      "[1] Standard Errors assume that the covariance matrix of the errors is correctly specified.\n",
      "[2] The condition number is large, 1.51e+04. This might indicate that there are\n",
      "strong multicollinearity or other numerical problems.\n"
     ]
    }
   ],
   "source": [
    "X = sm.add_constant(df.drop(columns='medv'))\n",
    "model_full = sm.OLS(df['medv'], X).fit()\n",
    "print(model_full.summary())\n"
   ]
  },
  {
   "cell_type": "markdown",
   "id": "b73f70ce",
   "metadata": {},
   "source": [
    "### 📊 Interpretation of full model with all predictors\n",
    "\n",
    "This full model explains about **74%** of the variation in house prices (`R² = 0.741`), which is the best fit so far.\n",
    "\n",
    "---\n",
    "\n",
    "**Intercept (`const`)** → $36.5k  \n",
    "Baseline price when all predictors are zero — mostly theoretical.\n",
    "\n",
    "---\n",
    "\n",
    "**Key predictors and what they tell us:**\n",
    "\n",
    "- **`crim`** → −0.11 → Each unit increase in crime lowers price by ~$110. Still a small but meaningful negative effect.\n",
    "- **`zn`** → +0.046 → Higher residential zoning slightly raises prices (~$46 per unit), small but significant.\n",
    "- **`indus`** → not significant (`p = 0.738`) → industrial share has no clear price effect here.\n",
    "- **`chas`** → +2.69 → Homes near the Charles River are ~$2,690 higher on average.\n",
    "- **`nox`** → −17.77 → Higher air pollution sharply lowers prices (~$17.8k per unit).\n",
    "- **`rm`** → +3.81 → Each extra room adds ~$3,810, a strong positive effect.\n",
    "- **`age`** → not significant (`p = 0.958`) → age loses influence in the full model.\n",
    "- **`dis`** → −1.48 → Longer distance to employment centers cuts ~$1,480 from price.\n",
    "- **`rad`** → +0.31 → Better highway access slightly raises prices.\n",
    "- **`tax`** → −0.012 → Higher taxes reduce price slightly (~$12 per unit).\n",
    "- **`ptratio`** → −0.95 → More crowded schools lower price by ~$950 per extra student per teacher.\n",
    "- **`black`** → +0.009 → Higher Black population index slightly raises prices (~$9 per unit), though the meaning is complex.\n",
    "- **`lstat`** → −0.52 → Higher % low-status households still strongly reduces price (~$520 per unit).\n",
    "\n",
    "---\n",
    "\n",
    "Notes:\n",
    "- Almost all predictors are significant (`p < 0.05`), except `indus` and `age`.\n",
    "- The **condition number is very high (~15,100)** → which tells us some predictors are tangled together, making it harder to trust the exact size of each effect.\n"
   ]
  },
  {
   "cell_type": "markdown",
   "id": "9eff7e1b",
   "metadata": {},
   "source": [
    "### Check the correlation between the predictors"
   ]
  },
  {
   "cell_type": "code",
   "execution_count": 20,
   "id": "a4c9edb6",
   "metadata": {},
   "outputs": [
    {
     "name": "stdout",
     "output_type": "stream",
     "text": [
      "             crim        zn     indus      chas       nox        rm       age  \\\n",
      "crim     1.000000 -0.200469  0.406583 -0.055892  0.420972 -0.219247  0.352734   \n",
      "zn      -0.200469  1.000000 -0.533828 -0.042697 -0.516604  0.311991 -0.569537   \n",
      "indus    0.406583 -0.533828  1.000000  0.062938  0.763651 -0.391676  0.644779   \n",
      "chas    -0.055892 -0.042697  0.062938  1.000000  0.091203  0.091251  0.086518   \n",
      "nox      0.420972 -0.516604  0.763651  0.091203  1.000000 -0.302188  0.731470   \n",
      "rm      -0.219247  0.311991 -0.391676  0.091251 -0.302188  1.000000 -0.240265   \n",
      "age      0.352734 -0.569537  0.644779  0.086518  0.731470 -0.240265  1.000000   \n",
      "dis     -0.379670  0.664408 -0.708027 -0.099176 -0.769230  0.205246 -0.747881   \n",
      "rad      0.625505 -0.311948  0.595129 -0.007368  0.611441 -0.209847  0.456022   \n",
      "tax      0.582764 -0.314563  0.720760 -0.035587  0.668023 -0.292048  0.506456   \n",
      "ptratio  0.289946 -0.391679  0.383248 -0.121515  0.188933 -0.355501  0.261515   \n",
      "black   -0.385064  0.175520 -0.356977  0.048788 -0.380051  0.128069 -0.273534   \n",
      "lstat    0.455621 -0.412995  0.603800 -0.053929  0.590879 -0.613808  0.602339   \n",
      "medv    -0.388305  0.360445 -0.483725  0.175260 -0.427321  0.695360 -0.376955   \n",
      "\n",
      "              dis       rad       tax   ptratio     black     lstat      medv  \n",
      "crim    -0.379670  0.625505  0.582764  0.289946 -0.385064  0.455621 -0.388305  \n",
      "zn       0.664408 -0.311948 -0.314563 -0.391679  0.175520 -0.412995  0.360445  \n",
      "indus   -0.708027  0.595129  0.720760  0.383248 -0.356977  0.603800 -0.483725  \n",
      "chas    -0.099176 -0.007368 -0.035587 -0.121515  0.048788 -0.053929  0.175260  \n",
      "nox     -0.769230  0.611441  0.668023  0.188933 -0.380051  0.590879 -0.427321  \n",
      "rm       0.205246 -0.209847 -0.292048 -0.355501  0.128069 -0.613808  0.695360  \n",
      "age     -0.747881  0.456022  0.506456  0.261515 -0.273534  0.602339 -0.376955  \n",
      "dis      1.000000 -0.494588 -0.534432 -0.232471  0.291512 -0.496996  0.249929  \n",
      "rad     -0.494588  1.000000  0.910228  0.464741 -0.444413  0.488676 -0.381626  \n",
      "tax     -0.534432  0.910228  1.000000  0.460853 -0.441808  0.543993 -0.468536  \n",
      "ptratio -0.232471  0.464741  0.460853  1.000000 -0.177383  0.374044 -0.507787  \n",
      "black    0.291512 -0.444413 -0.441808 -0.177383  1.000000 -0.366087  0.333461  \n",
      "lstat   -0.496996  0.488676  0.543993  0.374044 -0.366087  1.000000 -0.737663  \n",
      "medv     0.249929 -0.381626 -0.468536 -0.507787  0.333461 -0.737663  1.000000  \n"
     ]
    },
    {
     "data": {
      "image/png": "[encoded data removed]",
      "text/plain": [
       "<Figure size 640x480 with 2 Axes>"
      ]
     },
     "metadata": {},
     "output_type": "display_data"
    }
   ],
   "source": [
    "corr = df.corr()\n",
    "print(corr)\n",
    "\n",
    "# heat-map\n",
    "import seaborn as sns, matplotlib.pyplot as plt\n",
    "sns.heatmap(corr, cmap='coolwarm')\n",
    "plt.show()"
   ]
  },
  {
   "cell_type": "markdown",
   "id": "f9e23bd3",
   "metadata": {},
   "source": [
    "### 📊 Interpretation of the correlation matrix\n",
    "\n",
    "Looking at the correlation matrix and heatmap, we can see how strongly the predictors are related to each other and to the response `medv`.\n",
    "\n",
    "---\n",
    "\n",
    "**Strong correlations with house price (`medv`):**\n",
    "- `lstat` → −0.74 → strong negative → more low-status households = lower price.\n",
    "- `rm` → +0.70 → strong positive → more rooms = higher price.\n",
    "- `ptratio` → −0.51 → moderately negative → larger class sizes = lower price.\n",
    "- `indus`, `nox`, `crim` → moderate negative → more industry, pollution, or crime = lower price.\n",
    "- `black`, `zn` → weak positive.\n",
    "\n",
    "---\n",
    "\n",
    "**Strong correlations between predictors (possible multicollinearity):**\n",
    "- `rad` and `tax` → +0.91 → more highway access = higher taxes.\n",
    "- `nox` and `indus` → +0.76 → more industry = more pollution.\n",
    "- `dis` and `nox` → −0.77 → greater distance from jobs = less pollution.\n",
    "- `age` and `dis` → −0.75 → older areas are closer to city centers.\n",
    "\n",
    "---\n",
    "\n",
    "✅ What this tells us:\n",
    "- Some predictors are tightly linked (like `rad` and `tax`), so in regression models we need to **watch out for multicollinearity**.\n",
    "- The strongest price drivers (`lstat` and `rm`) stand out clearly.\n",
    "- Pollution, industry, crime, and school quality all matter, but they’re also tangled with each other.\n",
    "\n"
   ]
  },
  {
   "cell_type": "markdown",
   "id": "546e859b",
   "metadata": {},
   "source": [
    "### Use the multiple linear regression model"
   ]
  },
  {
   "cell_type": "code",
   "execution_count": 21,
   "id": "1935e4e2",
   "metadata": {},
   "outputs": [
    {
     "name": "stdout",
     "output_type": "stream",
     "text": [
      "   lstat   rm\n",
      "0      5  5.0\n",
      "1      5  6.5\n",
      "2      5  8.0\n",
      "3     10  5.0\n",
      "4     10  6.5\n",
      "5     10  8.0\n",
      "6     15  5.0\n",
      "7     15  6.5\n",
      "8     15  8.0\n"
     ]
    }
   ],
   "source": [
    "import itertools\n",
    "\n",
    "# Define the values\n",
    "lstatC = [5, 10, 15]\n",
    "rmC = [5, 6.5, 8]\n",
    "\n",
    "# Create all combinations (expand.grid equivalent)\n",
    "selected_predictor_values = pd.DataFrame(list(itertools.product(lstatC, rmC)), columns=['lstat', 'rm'])\n",
    "\n",
    "# Show the grid\n",
    "print(selected_predictor_values)\n"
   ]
  },
  {
   "cell_type": "code",
   "execution_count": 22,
   "id": "83874c88",
   "metadata": {},
   "outputs": [
    {
     "name": "stdout",
     "output_type": "stream",
     "text": [
      "        mean   mean_se  mean_ci_lower  mean_ci_upper  obs_ci_lower  \\\n",
      "0  20.903875  0.856315      19.221481      22.586269      9.889729   \n",
      "1  28.546057  0.377499      27.804387      29.287727     17.635923   \n",
      "2  36.188239  0.663860      34.883959      37.492519     25.225479   \n",
      "3  17.692084  0.693873      16.328837      19.055330      6.722152   \n",
      "4  25.334266  0.263915      24.815754      25.852777     14.437027   \n",
      "5  32.976448  0.739470      31.523618      34.429277     21.995024   \n",
      "6  14.480292  0.570322      13.359785      15.600799      3.537875   \n",
      "7  22.122474  0.304004      21.525200      22.719748     11.221204   \n",
      "8  29.764656  0.865184      28.064837      31.464475     18.747835   \n",
      "\n",
      "   obs_ci_upper  \n",
      "0     31.918021  \n",
      "1     39.456192  \n",
      "2     47.150999  \n",
      "3     28.662016  \n",
      "4     36.231505  \n",
      "5     43.957872  \n",
      "6     25.422709  \n",
      "7     33.023745  \n",
      "8     40.781477  \n"
     ]
    }
   ],
   "source": [
    "import statsmodels.api as sm\n",
    "\n",
    "# Fit the model on lstat + rm\n",
    "X = sm.add_constant(df[['lstat', 'rm']])\n",
    "model = sm.OLS(df['medv'], X).fit()\n",
    "\n",
    "# Add constant to prediction grid\n",
    "grid_with_const = sm.add_constant(selected_predictor_values)\n",
    "\n",
    "# Predict with intervals\n",
    "predictions = model.get_prediction(grid_with_const)\n",
    "print(predictions.summary_frame(alpha=0.05))"
   ]
  },
  {
   "cell_type": "markdown",
   "id": "c598f1cd",
   "metadata": {},
   "source": [
    "### 📊 Interpretation of predictions for `lstat` and `rm`\n",
    "\n",
    "We predicted median house prices (`medv`) for combinations of `lstat` (% low-status households) and `rm` (average number of rooms), along with 95% prediction intervals.\n",
    "\n",
    "---\n",
    "\n",
    "**Summary of patterns:**\n",
    "\n",
    "- **Low `lstat`, high `rm` → highest prices:**  \n",
    "  Example: lstat = 5, rm = 8 → predicted ~$36.2k, range ~$25.2k–$47.2k.\n",
    "\n",
    "- **High `lstat`, low `rm` → lowest prices:**  \n",
    "  Example: lstat = 15, rm = 5 → predicted ~$14.5k, range ~$3.5k–$25.4k.\n",
    "\n",
    "- **Effect of `lstat` at fixed `rm`:**  \n",
    "  Prices drop as `lstat` increases.  \n",
    "  Example at rm = 6.5 →  \n",
    "  lstat = 5 → ~$28.5k,  \n",
    "  lstat = 10 → ~$25.3k,  \n",
    "  lstat = 15 → ~$22.1k.\n",
    "\n",
    "- **Effect of `rm` at fixed `lstat`:**  \n",
    "  Prices rise as rooms increase.  \n",
    "  Example at lstat = 10 →  \n",
    "  rm = 5 → ~$17.7k,  \n",
    "  rm = 6.5 → ~$25.3k,  \n",
    "  rm = 8 → ~$33.0k.\n",
    "\n",
    "---\n",
    "\n",
    "**About the prediction intervals:**\n",
    "- Across all combinations, the prediction intervals are fairly similar in width (~$22k).\n",
    "- This means the model’s uncertainty stays consistent whether predicting low-end or high-end prices.\n",
    "\n",
    "---\n",
    "\n",
    "in simple terms:  \n",
    "Low-status, small homes → lowest predicted prices.  \n",
    "Low-status, large homes → middle range.  \n",
    "High-status, large homes → highest prices.  \n",
    "Prediction intervals help us see the expected spread in prices for similar homes.\n"
   ]
  },
  {
   "cell_type": "markdown",
   "id": "637f214d",
   "metadata": {},
   "source": [
    "# Check again the accuracy of the linear regression."
   ]
  },
  {
   "cell_type": "code",
   "execution_count": 23,
   "id": "87ff5a7f",
   "metadata": {},
   "outputs": [
    {
     "name": "stdout",
     "output_type": "stream",
     "text": [
      "                            OLS Regression Results                            \n",
      "==============================================================================\n",
      "Dep. Variable:                   medv   R-squared:                       0.708\n",
      "Model:                            OLS   Adj. R-squared:                  0.705\n",
      "Method:                 Least Squares   F-statistic:                     242.6\n",
      "Date:                Sat, 10 May 2025   Prob (F-statistic):          3.67e-131\n",
      "Time:                        19:02:40   Log-Likelihood:                -1528.7\n",
      "No. Observations:                 506   AIC:                             3069.\n",
      "Df Residuals:                     500   BIC:                             3095.\n",
      "Df Model:                           5                                         \n",
      "Covariance Type:            nonrobust                                         \n",
      "==============================================================================\n",
      "                 coef    std err          t      P>|t|      [0.025      0.975]\n",
      "------------------------------------------------------------------------------\n",
      "const         37.4992      4.613      8.129      0.000      28.436      46.562\n",
      "lstat         -0.5811      0.048    -12.122      0.000      -0.675      -0.487\n",
      "rm             4.1633      0.412     10.104      0.000       3.354       4.973\n",
      "nox          -17.9966      3.261     -5.519      0.000     -24.403     -11.590\n",
      "dis           -1.1847      0.168     -7.034      0.000      -1.516      -0.854\n",
      "ptratio       -1.0458      0.114     -9.212      0.000      -1.269      -0.823\n",
      "==============================================================================\n",
      "Omnibus:                      187.456   Durbin-Watson:                   0.971\n",
      "Prob(Omnibus):                  0.000   Jarque-Bera (JB):              885.498\n",
      "Skew:                           1.584   Prob(JB):                    5.21e-193\n",
      "Kurtosis:                       8.654   Cond. No.                         545.\n",
      "==============================================================================\n",
      "\n",
      "Notes:\n",
      "[1] Standard Errors assume that the covariance matrix of the errors is correctly specified.\n"
     ]
    }
   ],
   "source": [
    "import statsmodels.api as sm\n",
    "\n",
    "# Select predictors\n",
    "X_ext = sm.add_constant(df[['lstat', 'rm', 'nox', 'dis', 'ptratio']])\n",
    "model_ext = sm.OLS(df['medv'], X_ext).fit()\n",
    "\n",
    "# Show summary\n",
    "print(model_ext.summary())\n"
   ]
  },
  {
   "cell_type": "markdown",
   "id": "a7c7b86e",
   "metadata": {},
   "source": [
    "# Add interaction terms\n",
    "## Fit a model with interaction terms. Don't forget to also include the include the plain predictors"
   ]
  },
  {
   "cell_type": "code",
   "execution_count": 24,
   "id": "83c50391",
   "metadata": {},
   "outputs": [
    {
     "name": "stdout",
     "output_type": "stream",
     "text": [
      "                            OLS Regression Results                            \n",
      "==============================================================================\n",
      "Dep. Variable:                   medv   R-squared:                       0.778\n",
      "Model:                            OLS   Adj. R-squared:                  0.775\n",
      "Method:                 Least Squares   F-statistic:                     290.8\n",
      "Date:                Sat, 10 May 2025   Prob (F-statistic):          2.48e-159\n",
      "Time:                        19:05:47   Log-Likelihood:                -1459.9\n",
      "No. Observations:                 506   AIC:                             2934.\n",
      "Df Residuals:                     499   BIC:                             2963.\n",
      "Df Model:                           6                                         \n",
      "Covariance Type:            nonrobust                                         \n",
      "==============================================================================\n",
      "                 coef    std err          t      P>|t|      [0.025      0.975]\n",
      "------------------------------------------------------------------------------\n",
      "Intercept      3.1518      4.880      0.646      0.519      -6.435      12.739\n",
      "lstat          1.8115      0.196      9.237      0.000       1.426       2.197\n",
      "rm             8.3344      0.491     16.971      0.000       7.370       9.299\n",
      "lstat:rm      -0.4185      0.034    -12.488      0.000      -0.484      -0.353\n",
      "nox          -12.3651      2.885     -4.286      0.000     -18.033      -6.697\n",
      "dis           -1.0184      0.148     -6.893      0.000      -1.309      -0.728\n",
      "ptratio       -0.7152      0.103     -6.967      0.000      -0.917      -0.514\n",
      "==============================================================================\n",
      "Omnibus:                      246.928   Durbin-Watson:                   1.079\n",
      "Prob(Omnibus):                  0.000   Jarque-Bera (JB):             2792.613\n",
      "Skew:                           1.836   Prob(JB):                         0.00\n",
      "Kurtosis:                      13.908   Cond. No.                     2.36e+03\n",
      "==============================================================================\n",
      "\n",
      "Notes:\n",
      "[1] Standard Errors assume that the covariance matrix of the errors is correctly specified.\n",
      "[2] The condition number is large, 2.36e+03. This might indicate that there are\n",
      "strong multicollinearity or other numerical problems.\n"
     ]
    }
   ],
   "source": [
    "import statsmodels.formula.api as smf\n",
    "\n",
    "# Fit model with interaction term\n",
    "model_int = smf.ols('medv ~ lstat * rm + nox + dis + ptratio', data=df).fit()\n",
    "\n",
    "# Show summary\n",
    "print(model_int.summary())\n"
   ]
  },
  {
   "cell_type": "markdown",
   "id": "cfd99c2c",
   "metadata": {},
   "source": [
    "##  Interpretation of the two models\n",
    "\n",
    "---\n",
    "\n",
    "**`model_ext`**\n",
    "\n",
    "This model includes the predictors:\n",
    "- `lstat`, `rm`, `nox`, `dis`, `ptratio`\n",
    "\n",
    "**looking at the output we can say:**\n",
    "- `R² = 0.708` → explains ~71% of the variation in housing prices.\n",
    "- All predictors are highly significant (`p < 0.001`).\n",
    "- The effects:\n",
    "    - `lstat` → strong negative effect → as low-status % increases, price drops.\n",
    "    - `rm` → strong positive effect → more rooms, higher price.\n",
    "    - `nox` → large negative effect → more pollution lowers price.\n",
    "    - `dis` → negative effect → farther from jobs reduces price.\n",
    "    - `ptratio` → negative effect → higher class sizes lower price.\n",
    "- Residual standard error: ~4.99 → average price prediction error is ~$5k.\n",
    "\n",
    "**Interpretation**  \n",
    "This is a solid model that captures major independent effects but assumes all predictors act separately.\n",
    "\n",
    "---\n",
    "\n",
    "**`model_int`**\n",
    "\n",
    "This model includes:\n",
    "- All the above predictors **plus** the interaction term `lstat:rm`.\n",
    "\n",
    "**Key points from the output:**\n",
    "- `R² = 0.778` → explains ~77.8% of the price variation → much better fit.\n",
    "- The `lstat:rm` interaction term is highly significant and negative.\n",
    "- The main effects change:\n",
    "    - `lstat` main effect → flips positive, because the interaction now absorbs the negative slope.\n",
    "    - `rm` → becomes even stronger positive.\n",
    "    - `nox`, `dis`, `ptratio` → still significant, negative effects.\n",
    "- Residual standard error: ~4.36 → average prediction error drops to ~$4.4k.\n",
    "\n",
    "**Interpretation**  \n",
    "- The impact of low-status households on price **depends on house size**.  \n",
    "Specifically, in bigger houses (`rm` high), the negative effect of `lstat` is stronger.\n",
    "- The interaction improves model fit and gives a more realistic picture of the housing market.\n",
    "\n",
    "\n"
   ]
  },
  {
   "cell_type": "markdown",
   "id": "cb2a1e60",
   "metadata": {},
   "source": [
    "# Apply non-linear transformations to some predictors\n",
    "\n",
    "## Fit a model with non-linear transformations of the predictor terms. Don't forget to also include the include the plain predictors."
   ]
  },
  {
   "cell_type": "code",
   "execution_count": 25,
   "id": "3bb71b08",
   "metadata": {},
   "outputs": [
    {
     "name": "stdout",
     "output_type": "stream",
     "text": [
      "                            OLS Regression Results                            \n",
      "==============================================================================\n",
      "Dep. Variable:                   medv   R-squared:                       0.781\n",
      "Model:                            OLS   Adj. R-squared:                  0.778\n",
      "Method:                 Least Squares   F-statistic:                     253.9\n",
      "Date:                Sat, 10 May 2025   Prob (F-statistic):          8.05e-160\n",
      "Time:                        19:15:29   Log-Likelihood:                -1455.8\n",
      "No. Observations:                 506   AIC:                             2928.\n",
      "Df Residuals:                     498   BIC:                             2961.\n",
      "Df Model:                           7                                         \n",
      "Covariance Type:            nonrobust                                         \n",
      "========================================================================================\n",
      "                           coef    std err          t      P>|t|      [0.025      0.975]\n",
      "----------------------------------------------------------------------------------------\n",
      "Intercept               10.5522      5.499      1.919      0.056      -0.253      21.357\n",
      "lstat                    1.5468      0.216      7.167      0.000       1.123       1.971\n",
      "rm                       7.6004      0.552     13.777      0.000       6.516       8.684\n",
      "lstat:rm                -0.4468      0.035    -12.864      0.000      -0.515      -0.379\n",
      "I((lstat * rm) ** 2)     0.0004      0.000      2.845      0.005       0.000       0.001\n",
      "nox                    -12.2898      2.865     -4.290      0.000     -17.918      -6.662\n",
      "dis                     -1.0641      0.148     -7.209      0.000      -1.354      -0.774\n",
      "ptratio                 -0.7112      0.102     -6.977      0.000      -0.912      -0.511\n",
      "==============================================================================\n",
      "Omnibus:                      217.415   Durbin-Watson:                   1.059\n",
      "Prob(Omnibus):                  0.000   Jarque-Bera (JB):             2007.945\n",
      "Skew:                           1.622   Prob(JB):                         0.00\n",
      "Kurtosis:                      12.204   Cond. No.                     3.02e+05\n",
      "==============================================================================\n",
      "\n",
      "Notes:\n",
      "[1] Standard Errors assume that the covariance matrix of the errors is correctly specified.\n",
      "[2] The condition number is large, 3.02e+05. This might indicate that there are\n",
      "strong multicollinearity or other numerical problems.\n"
     ]
    }
   ],
   "source": [
    "import statsmodels.formula.api as smf\n",
    "\n",
    "# Fit model with non-linear (squared) interaction term\n",
    "model_nl = smf.ols('medv ~ lstat * rm + I((lstat * rm)**2) + nox + dis + ptratio', data=df).fit()\n",
    "\n",
    "# Show summary\n",
    "print(model_nl.summary())\n"
   ]
  },
  {
   "cell_type": "markdown",
   "id": "5bfc4334",
   "metadata": {},
   "source": [
    "## The increase of R^2 and the low -value associated with the quadratic term suggests that it\n",
    "leads to an improved model. Use ANOVA to check if the quadratic fit is superior to the linear\n",
    "fit.\n"
   ]
  },
  {
   "cell_type": "code",
   "execution_count": 26,
   "id": "cfd9df76",
   "metadata": {},
   "outputs": [
    {
     "name": "stdout",
     "output_type": "stream",
     "text": [
      "   df_resid          ssr  df_diff     ss_diff         F    Pr(>F)\n",
      "0     499.0  9500.381881      0.0         NaN       NaN       NaN\n",
      "1     498.0  9348.435955      1.0  151.945925  8.094303  0.004623\n"
     ]
    }
   ],
   "source": [
    "import statsmodels.api as sm\n",
    "\n",
    "# Perform ANOVA comparison between models\n",
    "anova_results = sm.stats.anova_lm(model_int, model_nl)\n",
    "print(anova_results)\n"
   ]
  },
  {
   "cell_type": "markdown",
   "id": "3662f8c1",
   "metadata": {},
   "source": [
    "\n",
    "**Model results**\n",
    "\n",
    "- The quadratic model achieved **R² = 0.781**, slightly better than the linear interaction model (`R² = 0.778`).\n",
    "- The squared interaction term (`I((lstat * rm)^2)`) was significant (`p ≈ 0.005`), suggesting it adds meaningful explanatory power.\n",
    "- All other predictors (`lstat`, `rm`, `lstat:rm`, `nox`, `dis`, `ptratio`) remained significant.\n",
    "\n",
    "---\n",
    "\n",
    "**ANOVA comparison**\n",
    "\n",
    "The ANOVA results showed:\n",
    "- **F = 8.09**, **p ≈ 0.0046**\n",
    "- This p-value is below 0.01 which mean that the improvment of the new model is statistcally signifigent.\n"
   ]
  },
  {
   "cell_type": "markdown",
   "id": "678f02b8",
   "metadata": {},
   "source": [
    "## Check if including additional polynomial terms, up to N order, lead to an improvement in the model fit."
   ]
  },
  {
   "cell_type": "code",
   "execution_count": 32,
   "id": "2e45999e",
   "metadata": {},
   "outputs": [
    {
     "name": "stdout",
     "output_type": "stream",
     "text": [
      "                            OLS Regression Results                            \n",
      "==============================================================================\n",
      "Dep. Variable:                   medv   R-squared:                       0.777\n",
      "Model:                            OLS   Adj. R-squared:                  0.773\n",
      "Method:                 Least Squares   F-statistic:                     192.0\n",
      "Date:                Sat, 10 May 2025   Prob (F-statistic):          2.10e-155\n",
      "Time:                        22:01:18   Log-Likelihood:                -1460.6\n",
      "No. Observations:                 506   AIC:                             2941.\n",
      "Df Residuals:                     496   BIC:                             2983.\n",
      "Df Model:                           9                                         \n",
      "Covariance Type:            nonrobust                                         \n",
      "======================================================================================\n",
      "                         coef    std err          t      P>|t|      [0.025      0.975]\n",
      "--------------------------------------------------------------------------------------\n",
      "Intercept             66.5846      5.453     12.210      0.000      55.870      77.299\n",
      "np.power(lstat, 1)    -9.5921      1.300     -7.381      0.000     -12.145      -7.039\n",
      "np.power(lstat, 2)     1.0777      0.189      5.694      0.000       0.706       1.450\n",
      "np.power(lstat, 3)    -0.0601      0.012     -4.931      0.000      -0.084      -0.036\n",
      "np.power(lstat, 4)     0.0016      0.000      4.395      0.000       0.001       0.002\n",
      "np.power(lstat, 5) -1.477e-05   3.75e-06     -3.943      0.000   -2.21e-05   -7.41e-06\n",
      "rm                     3.0142      0.397      7.583      0.000       2.233       3.795\n",
      "nox                  -15.2709      2.905     -5.257      0.000     -20.978      -9.563\n",
      "dis                   -1.1425      0.148     -7.696      0.000      -1.434      -0.851\n",
      "ptratio               -0.8586      0.102     -8.383      0.000      -1.060      -0.657\n",
      "==============================================================================\n",
      "Omnibus:                      177.946   Durbin-Watson:                   1.101\n",
      "Prob(Omnibus):                  0.000   Jarque-Bera (JB):             1097.202\n",
      "Skew:                           1.395   Prob(JB):                    5.57e-239\n",
      "Kurtosis:                       9.653   Cond. No.                     2.38e+08\n",
      "==============================================================================\n",
      "\n",
      "Notes:\n",
      "[1] Standard Errors assume that the covariance matrix of the errors is correctly specified.\n",
      "[2] The condition number is large, 2.38e+08. This might indicate that there are\n",
      "strong multicollinearity or other numerical problems.\n"
     ]
    }
   ],
   "source": [
    "import statsmodels.api as sm\n",
    "import numpy as np\n",
    "\n",
    "# Generate polynomial features manually using np.power\n",
    "poly_terms = ['np.power(lstat, {})'.format(i) for i in range(1, 6)]\n",
    "\n",
    "# Create the formula string\n",
    "formula = 'medv ~ ' + ' + '.join(poly_terms + ['rm', 'nox', 'dis', 'ptratio'])\n",
    "\n",
    "# Fit the model using from_formula\n",
    "model_poly = sm.OLS.from_formula(formula, data=df).fit()\n",
    "\n",
    "# Show summary\n",
    "print(model_poly.summary())\n"
   ]
  },
  {
   "cell_type": "code",
   "execution_count": 28,
   "id": "10d4ba69",
   "metadata": {},
   "outputs": [
    {
     "name": "stdout",
     "output_type": "stream",
     "text": [
      "   df_resid          ssr  df_diff    ss_diff         F  Pr(>F)\n",
      "0     499.0  9500.381881      0.0        NaN       NaN     NaN\n",
      "1     496.0  9525.359363      3.0 -24.977482 -0.433539     1.0\n"
     ]
    }
   ],
   "source": [
    "anova_results_poly = sm.stats.anova_lm(model_int, model_poly)\n",
    "print(anova_results_poly)"
   ]
  },
  {
   "cell_type": "markdown",
   "id": "70026efc",
   "metadata": {},
   "source": [
    "\n",
    "\n",
    "\n",
    "\n",
    "\n",
    "**What the model results showed affter adding lstat polynomyl 2-5**\n",
    "\n",
    "- `R² ≈ 0.777`, worse than both of them but not by far .\n",
    "- and the overall model fit (AIC, BIC) did not meaningfully improve compared to previous models.\n",
    "- The **condition number** is very high → risk of multicollinearity, which can make coefficients unstable.\n",
    "\n",
    "---\n",
    "\n",
    "**ANOVA**\n",
    "\n",
    "The ANOVA comparison between the linear interaction model (`model_int`) and the high-degree polynomial model (`model_poly`) gave:\n",
    "- `F ≈ -0.43` → negative value → no meaningful improvement\n",
    "- `p ≈ 1.0` → no statistically significant improvement\n",
    "\n",
    "This tells us that **adding 5th-degree polynomial terms did NOT improve the model compared to the simpler interaction model.**\n",
    "\n",
    "---\n",
    "\n",
    "**interpretation**\n",
    "\n",
    "- There’s a point where adding more polynomial complexity **does not pay off**.\n",
    "\n"
   ]
  },
  {
   "cell_type": "code",
   "execution_count": 33,
   "id": "6d7c4a54",
   "metadata": {},
   "outputs": [
    {
     "name": "stdout",
     "output_type": "stream",
     "text": [
      "                            OLS Regression Results                            \n",
      "==============================================================================\n",
      "Dep. Variable:                   medv   R-squared:                       0.804\n",
      "Model:                            OLS   Adj. R-squared:                  0.800\n",
      "Method:                 Least Squares   F-statistic:                     202.6\n",
      "Date:                Sat, 10 May 2025   Prob (F-statistic):          7.10e-168\n",
      "Time:                        22:11:23   Log-Likelihood:                -1428.4\n",
      "No. Observations:                 506   AIC:                             2879.\n",
      "Df Residuals:                     495   BIC:                             2925.\n",
      "Df Model:                          10                                         \n",
      "Covariance Type:            nonrobust                                         \n",
      "==============================================================================\n",
      "                 coef    std err          t      P>|t|      [0.025      0.975]\n",
      "------------------------------------------------------------------------------\n",
      "Intercept    172.9866     13.954     12.397      0.000     145.571     200.402\n",
      "lstat         -8.5527      1.227     -6.969      0.000     -10.964      -6.141\n",
      "lstat_pow2     1.0064      0.178      5.654      0.000       0.657       1.356\n",
      "lstat_pow3    -0.0582      0.011     -5.087      0.000      -0.081      -0.036\n",
      "lstat_pow4     0.0015      0.000      4.672      0.000       0.001       0.002\n",
      "lstat_pow5 -1.521e-05   3.52e-06     -4.323      0.000   -2.21e-05    -8.3e-06\n",
      "rm            25.1967      2.732      9.224      0.000      19.830      30.564\n",
      "log_rm      -137.4038     16.761     -8.198      0.000    -170.336    -104.472\n",
      "nox          -16.6408      2.734     -6.087      0.000     -22.012     -11.270\n",
      "dis           -0.9709      0.141     -6.885      0.000      -1.248      -0.694\n",
      "ptratio       -0.7843      0.097     -8.116      0.000      -0.974      -0.594\n",
      "==============================================================================\n",
      "Omnibus:                      221.958   Durbin-Watson:                   1.064\n",
      "Prob(Omnibus):                  0.000   Jarque-Bera (JB):             2718.500\n",
      "Skew:                           1.567   Prob(JB):                         0.00\n",
      "Kurtosis:                      13.914   Cond. No.                     9.63e+08\n",
      "==============================================================================\n",
      "\n",
      "Notes:\n",
      "[1] Standard Errors assume that the covariance matrix of the errors is correctly specified.\n",
      "[2] The condition number is large, 9.63e+08. This might indicate that there are\n",
      "strong multicollinearity or other numerical problems.\n",
      "\n",
      "ANOVA Comparison (model_int vs. model_5):\n",
      "   df_resid          ssr  df_diff     ss_diff          F        Pr(>F)\n",
      "0     499.0  9500.381881      0.0         NaN        NaN           NaN\n",
      "1     495.0  8386.756361      4.0  1113.62552  16.431997  1.190966e-12\n"
     ]
    }
   ],
   "source": [
    "import numpy as np\n",
    "import pandas as pd\n",
    "import statsmodels.api as sm\n",
    "import statsmodels.formula.api as smf\n",
    "\n",
    "# Create log(rm)\n",
    "df['log_rm'] = np.log(df['rm'])\n",
    "\n",
    "# Add polynomial terms up to degree 5 for lstat\n",
    "for i in range(2, 6):\n",
    "    df[f'lstat_pow{i}'] = df['lstat'] ** i\n",
    "\n",
    "# Define the model formula using raw powers of lstat\n",
    "formula = 'medv ~ lstat + lstat_pow2 + lstat_pow3 + lstat_pow4 + lstat_pow5 + rm + log_rm + nox + dis + ptratio'\n",
    "\n",
    "# Fit the model\n",
    "model_5 = smf.ols(formula=formula, data=df).fit()\n",
    "\n",
    "# Show summary\n",
    "print(model_5.summary())\n",
    "\n",
    "# Compare with the earlier interaction model (model_int)\n",
    "anova_result = sm.stats.anova_lm(model_int, model_5)\n",
    "print(\"\\nANOVA Comparison (model_int vs. model_5):\")\n",
    "print(anova_result)\n"
   ]
  },
  {
   "cell_type": "markdown",
   "id": "a04615c9",
   "metadata": {},
   "source": [
    "\n",
    "**Final Model Interpretation — Polynomial + Log Transform**\n",
    "\n",
    "We fit a more flexible model using:\n",
    "- 5th-degree polynomial terms for `lstat` (`lstat`, `lstat²`, ..., `lstat⁵`)\n",
    "- A combination of both `rm` and `log(rm)` to allow non-linear effects of room count\n",
    "- Standard predictors: `nox`, `dis`, and `ptratio`\n",
    "\n",
    "then compared it to our previous interaction model (`model_int`) using ANOVA.\n",
    "\n",
    "---\n",
    "\n",
    "**result**\n",
    "\n",
    "- `R² = 0.804`, Adjusted `R² = 0.800` → best fit so far\n",
    "- All predictors are statistically significant (`p < 0.001`)\n",
    "- `log(rm)` has a strong **negative** effect when `rm` is already included — this shows a **non-linear diminishing return** from adding more rooms\n",
    "- Higher-order `lstat` terms alternate in sign, capturing curvature\n",
    "- Residual error dropped to **~4.12**, down from ~4.36 in the interaction model\n",
    "\n",
    "---\n",
    "\n",
    "**ANOVA comparison**\n",
    "\n",
    "- `F = 16.43`, `p < 1.2e-12`  \n",
    "→ This improvement is **statistically significant**\n",
    "\n",
    "\n",
    "\n",
    "---\n",
    "\n",
    "**Interpreting**\n",
    " the model is better becuse is Capture more complex, non-linear relationships (with polynomials) and Test for diminishing returns in room size (via `log(rm)`) so in other words the diffrence bettween 1 and 2 rooms is way bigger than 5 and 6 \n",
    "\n",
    "\n"
   ]
  },
  {
   "cell_type": "markdown",
   "id": "953f421b",
   "metadata": {},
   "source": [
    "# my attempt of betting the teacher"
   ]
  },
  {
   "cell_type": "code",
   "execution_count": 37,
   "id": "c6648c2b",
   "metadata": {},
   "outputs": [
    {
     "name": "stdout",
     "output_type": "stream",
     "text": [
      "                            OLS Regression Results                            \n",
      "==============================================================================\n",
      "Dep. Variable:                   medv   R-squared:                       0.839\n",
      "Model:                            OLS   Adj. R-squared:                  0.833\n",
      "Method:                 Least Squares   F-statistic:                     133.4\n",
      "Date:                Sat, 10 May 2025   Prob (F-statistic):          6.20e-179\n",
      "Time:                        22:22:04   Log-Likelihood:                -1377.9\n",
      "No. Observations:                 506   AIC:                             2796.\n",
      "Df Residuals:                     486   BIC:                             2880.\n",
      "Df Model:                          19                                         \n",
      "Covariance Type:            nonrobust                                         \n",
      "===============================================================================\n",
      "                  coef    std err          t      P>|t|      [0.025      0.975]\n",
      "-------------------------------------------------------------------------------\n",
      "Intercept     156.5116     20.139      7.771      0.000     116.941     196.083\n",
      "lstat          -6.9513      1.320     -5.265      0.000      -9.545      -4.357\n",
      "lstat_pow2      0.8985      0.169      5.310      0.000       0.566       1.231\n",
      "lstat_pow3     -0.0517      0.011     -4.802      0.000      -0.073      -0.031\n",
      "lstat_pow4      0.0014      0.000      4.409      0.000       0.001       0.002\n",
      "lstat_pow5  -1.338e-05   3.28e-06     -4.084      0.000   -1.98e-05   -6.94e-06\n",
      "rm             20.2386      2.735      7.399      0.000      14.864      25.613\n",
      "log_rm        -99.5334     18.479     -5.386      0.000    -135.842     -63.225\n",
      "lstat_rm       -0.1170      0.056     -2.074      0.039      -0.228      -0.006\n",
      "nox            -5.2066     20.848     -0.250      0.803     -46.170      35.757\n",
      "nox_sq        -11.7778     15.562     -0.757      0.450     -42.354      18.798\n",
      "log_dis        -5.3764      0.752     -7.150      0.000      -6.854      -3.899\n",
      "log_ptratio   -13.1829      1.865     -7.067      0.000     -16.848      -9.518\n",
      "crim           -0.1698      0.027     -6.334      0.000      -0.223      -0.117\n",
      "zn              0.0070      0.011      0.617      0.538      -0.015       0.029\n",
      "indus          -0.0069      0.050     -0.137      0.891      -0.105       0.092\n",
      "chas            1.9767      0.691      2.862      0.004       0.620       3.333\n",
      "rad             0.2943      0.054      5.495      0.000       0.189       0.400\n",
      "tax            -0.0126      0.003     -4.205      0.000      -0.018      -0.007\n",
      "black           0.0058      0.002      2.652      0.008       0.002       0.010\n",
      "==============================================================================\n",
      "Omnibus:                      182.218   Durbin-Watson:                   1.241\n",
      "Prob(Omnibus):                  0.000   Jarque-Bera (JB):             2435.662\n",
      "Skew:                           1.175   Prob(JB):                         0.00\n",
      "Kurtosis:                      13.488   Cond. No.                     1.41e+09\n",
      "==============================================================================\n",
      "\n",
      "Notes:\n",
      "[1] Standard Errors assume that the covariance matrix of the errors is correctly specified.\n",
      "[2] The condition number is large, 1.41e+09. This might indicate that there are\n",
      "strong multicollinearity or other numerical problems.\n"
     ]
    }
   ],
   "source": [
    "import numpy as np\n",
    "import statsmodels.api as sm\n",
    "import statsmodels.formula.api as smf\n",
    "\n",
    "# Add engineered features\n",
    "df['log_rm'] = np.log(df['rm'])\n",
    "df['log_dis'] = np.log(df['dis'])\n",
    "df['log_ptratio'] = np.log(df['ptratio'])\n",
    "df['nox_sq'] = df['nox'] ** 2\n",
    "df['lstat_rm'] = df['lstat'] * df['rm']\n",
    "\n",
    "# Polynomial features for lstat\n",
    "for i in range(2, 6):\n",
    "    df[f'lstat_pow{i}'] = df['lstat'] ** i\n",
    "\n",
    "# Include missing original predictors\n",
    "originals = ['crim', 'zn', 'indus', 'chas', 'rad', 'tax', 'black']\n",
    "\n",
    "# Combine everything into a formula string\n",
    "features = (\n",
    "    ['lstat', 'lstat_pow2', 'lstat_pow3', 'lstat_pow4', 'lstat_pow5',\n",
    "     'rm', 'log_rm', 'lstat_rm',\n",
    "     'nox', 'nox_sq',\n",
    "     'log_dis', 'log_ptratio'] + originals\n",
    ")\n",
    "\n",
    "formula = 'medv ~ ' + ' + '.join(features)\n",
    "\n",
    "# Fit the model\n",
    "model_boost_full = smf.ols(formula=formula, data=df).fit()\n",
    "\n",
    "# Show summary\n",
    "print(model_boost_full.summary())\n"
   ]
  },
  {
   "cell_type": "code",
   "execution_count": 38,
   "id": "d06fb2c7",
   "metadata": {},
   "outputs": [
    {
     "name": "stdout",
     "output_type": "stream",
     "text": [
      "   df_resid          ssr  df_diff      ss_diff          F        Pr(>F)\n",
      "0     496.0  9525.359363      0.0          NaN        NaN           NaN\n",
      "1     486.0  6871.209099     10.0  2654.150264  18.772781  3.233425e-29\n"
     ]
    }
   ],
   "source": [
    "anova_results_poly = sm.stats.anova_lm(model_poly, model_boost_full)\n",
    "print(anova_results_poly)"
   ]
  },
  {
   "cell_type": "markdown",
   "id": "6cb9743a",
   "metadata": {},
   "source": [
    "# i added the missing feachers and loged some more i beat the teacher !! Dep. R-squared: 0.839 Adj. R-squared: 0.833"
   ]
  },
  {
   "cell_type": "markdown",
   "id": "42705add",
   "metadata": {},
   "source": [
    "# Use categorical predictors\n",
    "## Therefore, we will now examine the Carseats data, which is part of the ISLR library. We will attempt to predict Sales (child car seat sales) in 400 locations based on a number of predictors.\n"
   ]
  },
  {
   "cell_type": "code",
   "execution_count": 40,
   "id": "4cdfd496",
   "metadata": {},
   "outputs": [
    {
     "name": "stdout",
     "output_type": "stream",
     "text": [
      "Number of columns: 11\n",
      "Column names: ['Sales', 'CompPrice', 'Income', 'Advertising', 'Population', 'Price', 'ShelveLoc', 'Age', 'Education', 'Urban', 'US']\n",
      "\n",
      "Summary statistics:\n",
      "             Sales   CompPrice      Income  Advertising  Population  \\\n",
      "count   400.000000  400.000000  400.000000   400.000000  400.000000   \n",
      "unique         NaN         NaN         NaN          NaN         NaN   \n",
      "top            NaN         NaN         NaN          NaN         NaN   \n",
      "freq           NaN         NaN         NaN          NaN         NaN   \n",
      "mean      7.496325  124.975000   68.657500     6.635000  264.840000   \n",
      "std       2.824115   15.334512   27.986037     6.650364  147.376436   \n",
      "min       0.000000   77.000000   21.000000     0.000000   10.000000   \n",
      "25%       5.390000  115.000000   42.750000     0.000000  139.000000   \n",
      "50%       7.490000  125.000000   69.000000     5.000000  272.000000   \n",
      "75%       9.320000  135.000000   91.000000    12.000000  398.500000   \n",
      "max      16.270000  175.000000  120.000000    29.000000  509.000000   \n",
      "\n",
      "             Price ShelveLoc         Age   Education Urban   US  \n",
      "count   400.000000       400  400.000000  400.000000   400  400  \n",
      "unique         NaN         3         NaN         NaN     2    2  \n",
      "top            NaN    Medium         NaN         NaN   Yes  Yes  \n",
      "freq           NaN       219         NaN         NaN   282  258  \n",
      "mean    115.795000       NaN   53.322500   13.900000   NaN  NaN  \n",
      "std      23.676664       NaN   16.200297    2.620528   NaN  NaN  \n",
      "min      24.000000       NaN   25.000000   10.000000   NaN  NaN  \n",
      "25%     100.000000       NaN   39.750000   12.000000   NaN  NaN  \n",
      "50%     117.000000       NaN   54.500000   14.000000   NaN  NaN  \n",
      "75%     131.000000       NaN   66.000000   16.000000   NaN  NaN  \n",
      "max     191.000000       NaN   80.000000   18.000000   NaN  NaN  \n"
     ]
    }
   ],
   "source": [
    "import pandas as pd\n",
    "\n",
    "# Load the Carseats dataset\n",
    "df = pd.read_csv(\"dataset/Carseats.csv\", index_col=0)  # Adjust path if needed\n",
    "\n",
    "# Overview of the data\n",
    "print(f\"Number of columns: {df.shape[1]}\")\n",
    "print(\"Column names:\", df.columns.tolist())\n",
    "print(\"\\nSummary statistics:\")\n",
    "print(df.describe(include='all'))  # include='all' shows categorical info too\n"
   ]
  },
  {
   "cell_type": "markdown",
   "id": "515ab533",
   "metadata": {},
   "source": [
    "There are categorical predictors ShelveLoc , Urban , and US . Use them in a prediction\n",
    "model.\n"
   ]
  },
  {
   "cell_type": "code",
   "execution_count": 42,
   "id": "0f91593d",
   "metadata": {},
   "outputs": [
    {
     "name": "stdout",
     "output_type": "stream",
     "text": [
      "                            OLS Regression Results                            \n",
      "==============================================================================\n",
      "Dep. Variable:                  Sales   R-squared:                       0.873\n",
      "Model:                            OLS   Adj. R-squared:                  0.870\n",
      "Method:                 Least Squares   F-statistic:                     243.4\n",
      "Date:                Sat, 10 May 2025   Prob (F-statistic):          1.60e-166\n",
      "Time:                        22:42:40   Log-Likelihood:                -568.99\n",
      "No. Observations:                 400   AIC:                             1162.\n",
      "Df Residuals:                     388   BIC:                             1210.\n",
      "Df Model:                          11                                         \n",
      "Covariance Type:            nonrobust                                         \n",
      "==========================================================================================\n",
      "                             coef    std err          t      P>|t|      [0.025      0.975]\n",
      "------------------------------------------------------------------------------------------\n",
      "Intercept                  5.6606      0.603      9.380      0.000       4.474       6.847\n",
      "C(ShelveLoc)[T.Good]       4.8502      0.153     31.678      0.000       4.549       5.151\n",
      "C(ShelveLoc)[T.Medium]     1.9567      0.126     15.516      0.000       1.709       2.205\n",
      "C(Urban)[T.Yes]            0.1229      0.113      1.088      0.277      -0.099       0.345\n",
      "C(US)[T.Yes]              -0.1841      0.150     -1.229      0.220      -0.479       0.111\n",
      "CompPrice                  0.0928      0.004     22.378      0.000       0.085       0.101\n",
      "Income                     0.0158      0.002      8.565      0.000       0.012       0.019\n",
      "Advertising                0.1231      0.011     11.066      0.000       0.101       0.145\n",
      "Population                 0.0002      0.000      0.561      0.575      -0.001       0.001\n",
      "Price                     -0.0954      0.003    -35.700      0.000      -0.101      -0.090\n",
      "Age                       -0.0460      0.003    -14.472      0.000      -0.052      -0.040\n",
      "Education                 -0.0211      0.020     -1.070      0.285      -0.060       0.018\n",
      "==============================================================================\n",
      "Omnibus:                        0.811   Durbin-Watson:                   2.013\n",
      "Prob(Omnibus):                  0.667   Jarque-Bera (JB):                0.765\n",
      "Skew:                           0.107   Prob(JB):                        0.682\n",
      "Kurtosis:                       2.994   Cond. No.                     4.15e+03\n",
      "==============================================================================\n",
      "\n",
      "Notes:\n",
      "[1] Standard Errors assume that the covariance matrix of the errors is correctly specified.\n",
      "[2] The condition number is large, 4.15e+03. This might indicate that there are\n",
      "strong multicollinearity or other numerical problems.\n"
     ]
    }
   ],
   "source": [
    "\n",
    "# Fit model using all predictors; C() tells statsmodels to treat as categorical\n",
    "formula = 'Sales ~ CompPrice + Income + Advertising + Population + Price + Age + Education + C(ShelveLoc) + C(Urban) + C(US)'\n",
    "\n",
    "# Fit the model\n",
    "model_all = smf.ols(formula=formula, data=df).fit()\n",
    "\n",
    "# Show results\n",
    "print(model_all.summary())\n"
   ]
  },
  {
   "cell_type": "markdown",
   "id": "5cf8e83f",
   "metadata": {},
   "source": [
    "\n",
    "\n",
    "**full linear model for Carseats data**\n",
    "\n",
    "We fit a multiple linear regression model using all available predictors to predict `Sales` of child car seats across 400 locations. Categorical variables (`ShelveLoc`, `Urban`, `US`) were properly handled using `C()` to create dummy variables.\n",
    "\n",
    "---\n",
    "\n",
    "**performance**\n",
    "\n",
    "- `R² = 0.873` → The model explains **87.3%** of the variance in `Sales`\n",
    "- `Adjusted R² = 0.870` → Very strong fit with a balanced number of predictors\n",
    "- Residual standard error: ~1.02 → predictions are on average ~1 unit away from actual sales\n",
    "\n",
    "---\n",
    "\n",
    "**Interpretation of predictors**\n",
    "\n",
    "- **`C(ShelveLoc)[T.Good]` = +4.85**, **`T.Medium` = +1.96**  \n",
    "  → Strongest effects! Better shelf location strongly increases sales\n",
    "- **`Price` = −0.095**  \n",
    "  → For every +$1 in price, sales decrease by ~0.095 units\n",
    "- **`CompPrice` = +0.093**  \n",
    "  → More expensive competitors → better for your own sales\n",
    "- **`Advertising` = +0.123**  \n",
    "  → Each $1k increase in advertising adds ~0.123 to sales\n",
    "- **`Income` = +0.016**  \n",
    "  → Higher-income areas buy more seats\n",
    "- **`Age` = −0.046**  \n",
    "  → Older store locations or demographics → lower sales\n",
    "- **`Urban` and `US`** → Not significant (`p > 0.05`)  \n",
    "  → Being in an urban area or in the US does **not** significantly affect sales in this model\n",
    "- **`Population`, `Education`** → Also not significant\n",
    "\n",
    "\n",
    "---\n",
    "\n",
    "**overall**\n",
    "\n",
    "This model fits the data **very well**. Most predictors behave as expected:\n",
    "\n",
    "- **Better shelf placement**, **more advertising**, and **competitive pricing** significantly increase sales\n",
    "- **Urban/US** status, education, and population do **not** explain much variation in sales\n",
    "\n"
   ]
  },
  {
   "cell_type": "code",
   "execution_count": 44,
   "id": "7de4fcf4",
   "metadata": {},
   "outputs": [
    {
     "name": "stdout",
     "output_type": "stream",
     "text": [
      "                            OLS Regression Results                            \n",
      "==============================================================================\n",
      "Dep. Variable:                  Sales   R-squared:                       0.870\n",
      "Model:                            OLS   Adj. R-squared:                  0.868\n",
      "Method:                 Least Squares   F-statistic:                     328.2\n",
      "Date:                Sat, 10 May 2025   Prob (F-statistic):          2.90e-168\n",
      "Time:                        22:54:23   Log-Likelihood:                -573.74\n",
      "No. Observations:                 400   AIC:                             1165.\n",
      "Df Residuals:                     391   BIC:                             1201.\n",
      "Df Model:                           8                                         \n",
      "Covariance Type:            nonrobust                                         \n",
      "==========================================================================================\n",
      "                             coef    std err          t      P>|t|      [0.025      0.975]\n",
      "------------------------------------------------------------------------------------------\n",
      "Intercept                  3.2991      0.476      6.932      0.000       2.363       4.235\n",
      "C(ShelveLoc)[T.Good]       4.8949      0.154     31.825      0.000       4.592       5.197\n",
      "C(ShelveLoc)[T.Medium]     1.9908      0.127     15.736      0.000       1.742       2.240\n",
      "CompPrice                  0.0934      0.004     22.492      0.000       0.085       0.102\n",
      "Income                     0.0098      0.003      3.756      0.000       0.005       0.015\n",
      "Advertising                0.0534      0.021      2.544      0.011       0.012       0.095\n",
      "Price                     -0.0759      0.003    -25.591      0.000      -0.082      -0.070\n",
      "Income:Advertising         0.0009      0.000      3.124      0.002       0.000       0.001\n",
      "Price:Age                 -0.0004   2.69e-05    -13.713      0.000      -0.000      -0.000\n",
      "==============================================================================\n",
      "Omnibus:                        1.537   Durbin-Watson:                   1.988\n",
      "Prob(Omnibus):                  0.464   Jarque-Bera (JB):                1.326\n",
      "Skew:                           0.129   Prob(JB):                        0.515\n",
      "Kurtosis:                       3.116   Cond. No.                     6.07e+04\n",
      "==============================================================================\n",
      "\n",
      "Notes:\n",
      "[1] Standard Errors assume that the covariance matrix of the errors is correctly specified.\n",
      "[2] The condition number is large, 6.07e+04. This might indicate that there are\n",
      "strong multicollinearity or other numerical problems.\n"
     ]
    }
   ],
   "source": [
    "import statsmodels.formula.api as smf\n",
    "\n",
    "# Define the formula\n",
    "formula = (\n",
    "    'Sales ~ CompPrice + Income + Advertising + Price + C(ShelveLoc) '\n",
    "    '+ Income:Advertising + Price:Age'\n",
    ")\n",
    "\n",
    "# Fit the model\n",
    "model_interaction = smf.ols(formula=formula, data=df).fit()\n",
    "\n",
    "# Show the summary\n",
    "print(model_interaction.summary())\n"
   ]
  },
  {
   "cell_type": "code",
   "execution_count": 50,
   "id": "742d5179",
   "metadata": {},
   "outputs": [
    {
     "name": "stdout",
     "output_type": "stream",
     "text": [
      "                            OLS Regression Results                            \n",
      "==============================================================================\n",
      "Dep. Variable:                  Sales   R-squared:                       0.872\n",
      "Model:                            OLS   Adj. R-squared:                  0.869\n",
      "Method:                 Least Squares   F-statistic:                     294.4\n",
      "Date:                Sat, 10 May 2025   Prob (F-statistic):          7.34e-168\n",
      "Time:                        23:05:49   Log-Likelihood:                -571.68\n",
      "No. Observations:                 400   AIC:                             1163.\n",
      "Df Residuals:                     390   BIC:                             1203.\n",
      "Df Model:                           9                                         \n",
      "Covariance Type:            nonrobust                                         \n",
      "==========================================================================================\n",
      "                             coef    std err          t      P>|t|      [0.025      0.975]\n",
      "------------------------------------------------------------------------------------------\n",
      "Intercept                  2.0488      0.783      2.617      0.009       0.510       3.588\n",
      "C(ShelveLoc)[T.Good]       4.9065      0.153     32.001      0.000       4.605       5.208\n",
      "C(ShelveLoc)[T.Medium]     1.9794      0.126     15.691      0.000       1.731       2.227\n",
      "CompPrice                  0.0936      0.004     22.615      0.000       0.085       0.102\n",
      "Income                     0.0277      0.009      2.982      0.003       0.009       0.046\n",
      "Advertising                0.0537      0.021      2.569      0.011       0.013       0.095\n",
      "Price                     -0.0652      0.006    -10.745      0.000      -0.077      -0.053\n",
      "Price_Age                 -0.0004   2.68e-05    -13.847      0.000      -0.000      -0.000\n",
      "Inc_Adv                    0.0009      0.000      3.089      0.002       0.000       0.001\n",
      "Income:Price              -0.0002   7.62e-05     -2.007      0.045      -0.000   -3.11e-06\n",
      "==============================================================================\n",
      "Omnibus:                        2.210   Durbin-Watson:                   1.990\n",
      "Prob(Omnibus):                  0.331   Jarque-Bera (JB):                1.957\n",
      "Skew:                           0.148   Prob(JB):                        0.376\n",
      "Kurtosis:                       3.171   Cond. No.                     1.62e+05\n",
      "==============================================================================\n",
      "\n",
      "Notes:\n",
      "[1] Standard Errors assume that the covariance matrix of the errors is correctly specified.\n",
      "[2] The condition number is large, 1.62e+05. This might indicate that there are\n",
      "strong multicollinearity or other numerical problems.\n"
     ]
    }
   ],
   "source": [
    "import statsmodels.formula.api as smf\n",
    "\n",
    "# engineered interaction terms (if not already in your DataFrame)\n",
    "df[\"Price_Age\"] = df[\"Price\"] * df[\"Age\"]\n",
    "df[\"Inc_Adv\"]   = df[\"Income\"] * df[\"Advertising\"]\n",
    "\n",
    "# best-performing model from the sweep\n",
    "best_formula = (\n",
    "    \"Sales ~ CompPrice + Income + Advertising + Price \"\n",
    "    \"+ Price_Age + Inc_Adv + C(ShelveLoc) + Income:Price\"\n",
    ")\n",
    "\n",
    "best_model = smf.ols(best_formula, data=df).fit()\n",
    "print(best_model.summary())\n"
   ]
  },
  {
   "cell_type": "markdown",
   "id": "4b877725",
   "metadata": {},
   "source": [
    "# i beet the teacher by multiplying the two variables price and age and income and advertising"
   ]
  }
 ],
 "metadata": {
  "kernelspec": {
   "display_name": "Python 3",
   "language": "python",
   "name": "python3"
  },
  "language_info": {
   "codemirror_mode": {
    "name": "ipython",
    "version": 3
   },
   "file_extension": ".py",
   "mimetype": "text/x-python",
   "name": "python",
   "nbconvert_exporter": "python",
   "pygments_lexer": "ipython3",
   "version": "3.10.11"
  }
 },
 "nbformat": 4,
 "nbformat_minor": 5
}
