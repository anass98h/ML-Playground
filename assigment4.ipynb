{
 "cells": [
  {
   "cell_type": "markdown",
   "id": "8fbdf1d0",
   "metadata": {},
   "source": [
    "# Conceptual"
   ]
  },
  {
   "cell_type": "markdown",
   "id": "55189579",
   "metadata": {},
   "source": [
    "## 1. Discuss the differences between LDA and QDA in terms of their main assumptions\n",
    "about classes, decision boundaries, number of samples, and overfitting.\n",
    "\n",
    "In LDA we assume that all classes are drawn from a multivariate normal distributions with a common covariance matrix\n",
    "while in QDA each class has its own MND and its own covariance\n",
    "\n",
    "In LDA the decision boundaries is linear because the common covariance matrix cuzs the quadratic terms to cancel and the discriminant is also linear which in effect cuses it to have lower variance but higher bias if the true boundary is curved \n",
    "while IN ODA since the predictors have diffrent covariance it doesnt cansle out the qoutraic terms\n",
    "\n",
    "when it comes to sample size LDA is better with small traning sets becuse it has lower perameters\n",
    "while QDA need to estmate each class-specific covariance matrix so it need more data\n",
    "\n",
    "LDA has lower varince and higher bias as i mentioned so its less effected by overfitting \n",
    "QDA is more flexible witch mean it can bend more to the shape of the traning data leading to more over fitting "
   ]
  },
  {
   "cell_type": "markdown",
   "id": "56aa1a62",
   "metadata": {},
   "source": [
    "## Regarding KNN\n",
    "### (a) How does the choice of distance metric affect the performance of k-NN classification?\n",
    "KNN picks the k training points that are “closest” to the query x and lets them vote.\n",
    "Because “closest” is defined entirely by the distance metric, changing that metric literally changes who is allowed to vote\n",
    "\n",
    "### (b) Please also discuss the concept of the curse of dimensionality and its implications for k-NN\n",
    "algorithm.\n",
    "non-parametric models like k-NN need a number of datapoints that grows exponentially with *p*\n",
    "In high dimensions almost every point is far from every other; volumes of hyper-balls explode so quickly that to keep the same local coverage radius you must include a huge fraction of the space. so the training set becomes so sparse that the “nearest” neighbors are still far away and increasingly irrelevant\n",
    "\n"
   ]
  },
  {
   "cell_type": "markdown",
   "id": "6b7dca9b",
   "metadata": {},
   "source": [
    "# Practical\n",
    "Overview of the steps\n",
    "1. Load the data and get an overview of the data\n",
    "2. Perform a logistic regression\n",
    "3. Use the logistic regression models\n",
    "4. Perform an LDA\n",
    "5. Use the LDA regression model\n",
    "6. Perform an QDA\n",
    "7. Use the QDA regression model\n",
    "8. Use 𝑘-Nearest Neighbors (KNN)\n",
    "\n",
    "## Steps in detail\n",
    "Load the data and get an overview of the data\n",
    "Load the data file Smarket.csv .\n",
    "This data set consists of percentage returns for a stock index over 1250 days. \n",
    "For each date, it contains the percentage returns for each of the five previous trading days, Lag1 through\n",
    "Lag5 .\n",
    "It also contains Volume (the number of shares traded on the previous day, in billions), Today (the percentage return on the date in question) and Direction (whether the market was Up or Down on this date)."
   ]
  },
  {
   "cell_type": "code",
   "execution_count": 1,
   "id": "7653c12e",
   "metadata": {},
   "outputs": [],
   "source": [
    "import pandas as pd\n",
    "df = pd.read_csv(\"dataset/Smarket.csv\", index_col=0)"
   ]
  },
  {
   "cell_type": "markdown",
   "id": "816da250",
   "metadata": {},
   "source": [
    "Display the number of predictors and possible responses and their names:\n"
   ]
  },
  {
   "cell_type": "code",
   "execution_count": 2,
   "id": "397b187a",
   "metadata": {},
   "outputs": [
    {
     "name": "stdout",
     "output_type": "stream",
     "text": [
      "9\n",
      "['Year', 'Lag1', 'Lag2', 'Lag3', 'Lag4', 'Lag5', 'Volume', 'Today', 'Direction']\n"
     ]
    }
   ],
   "source": [
    "print(df.shape[1])\n",
    "print(df.columns.tolist())"
   ]
  },
  {
   "cell_type": "markdown",
   "id": "34dac099",
   "metadata": {},
   "source": [
    "Print a statistic summary of the predictors and responses:"
   ]
  },
  {
   "cell_type": "code",
   "execution_count": 6,
   "id": "8b130273",
   "metadata": {},
   "outputs": [
    {
     "name": "stdout",
     "output_type": "stream",
     "text": [
      "               Year         Lag1         Lag2         Lag3         Lag4  \\\n",
      "count   1250.000000  1250.000000  1250.000000  1250.000000  1250.000000   \n",
      "unique          NaN          NaN          NaN          NaN          NaN   \n",
      "top             NaN          NaN          NaN          NaN          NaN   \n",
      "freq            NaN          NaN          NaN          NaN          NaN   \n",
      "mean    2003.016000     0.003834     0.003919     0.001716     0.001636   \n",
      "std        1.409018     1.136299     1.136280     1.138703     1.138774   \n",
      "min     2001.000000    -4.922000    -4.922000    -4.922000    -4.922000   \n",
      "25%     2002.000000    -0.639500    -0.639500    -0.640000    -0.640000   \n",
      "50%     2003.000000     0.039000     0.039000     0.038500     0.038500   \n",
      "75%     2004.000000     0.596750     0.596750     0.596750     0.596750   \n",
      "max     2005.000000     5.733000     5.733000     5.733000     5.733000   \n",
      "\n",
      "              Lag5       Volume        Today Direction  \n",
      "count   1250.00000  1250.000000  1250.000000      1250  \n",
      "unique         NaN          NaN          NaN         2  \n",
      "top            NaN          NaN          NaN        Up  \n",
      "freq           NaN          NaN          NaN       648  \n",
      "mean       0.00561     1.478305     0.003138       NaN  \n",
      "std        1.14755     0.360357     1.136334       NaN  \n",
      "min       -4.92200     0.356070    -4.922000       NaN  \n",
      "25%       -0.64000     1.257400    -0.639500       NaN  \n",
      "50%        0.03850     1.422950     0.038500       NaN  \n",
      "75%        0.59700     1.641675     0.596750       NaN  \n",
      "max        5.73300     3.152470     5.733000       NaN  \n"
     ]
    }
   ],
   "source": [
    "print(df.describe(include='all'))"
   ]
  },
  {
   "cell_type": "markdown",
   "id": "df2a3ea4",
   "metadata": {},
   "source": [
    "Display the number of data points:\n"
   ]
  },
  {
   "cell_type": "code",
   "execution_count": 4,
   "id": "71671d62",
   "metadata": {},
   "outputs": [
    {
     "name": "stdout",
     "output_type": "stream",
     "text": [
      "1250\n"
     ]
    }
   ],
   "source": [
    "print(df.shape[0])"
   ]
  },
  {
   "cell_type": "markdown",
   "id": "8620a8c7",
   "metadata": {},
   "source": [
    "Display the data in a table (subset of rows is sufficient):\n"
   ]
  },
  {
   "cell_type": "code",
   "execution_count": 5,
   "id": "dc7e0682",
   "metadata": {},
   "outputs": [
    {
     "name": "stdout",
     "output_type": "stream",
     "text": [
      "   Year   Lag1   Lag2   Lag3   Lag4   Lag5  Volume  Today Direction\n",
      "1  2001  0.381 -0.192 -2.624 -1.055  5.010  1.1913  0.959        Up\n",
      "2  2001  0.959  0.381 -0.192 -2.624 -1.055  1.2965  1.032        Up\n",
      "3  2001  1.032  0.959  0.381 -0.192 -2.624  1.4112 -0.623      Down\n",
      "4  2001 -0.623  1.032  0.959  0.381 -0.192  1.2760  0.614        Up\n",
      "5  2001  0.614 -0.623  1.032  0.959  0.381  1.2057  0.213        Up\n"
     ]
    }
   ],
   "source": [
    "print(df.head())"
   ]
  },
  {
   "cell_type": "code",
   "execution_count": 11,
   "id": "002eb0aa",
   "metadata": {},
   "outputs": [
    {
     "name": "stdout",
     "output_type": "stream",
     "text": [
      "Correlation Matrix:\n",
      "         Year   Lag1   Lag2   Lag3   Lag4   Lag5  Volume  Today\n",
      "Year    1.000  0.030  0.031  0.033  0.036  0.030   0.539  0.030\n",
      "Lag1    0.030  1.000 -0.026 -0.011 -0.003 -0.006   0.041 -0.026\n",
      "Lag2    0.031 -0.026  1.000 -0.026 -0.011 -0.004  -0.043 -0.010\n",
      "Lag3    0.033 -0.011 -0.026  1.000 -0.024 -0.019  -0.042 -0.002\n",
      "Lag4    0.036 -0.003 -0.011 -0.024  1.000 -0.027  -0.048 -0.007\n",
      "Lag5    0.030 -0.006 -0.004 -0.019 -0.027  1.000  -0.022 -0.035\n",
      "Volume  0.539  0.041 -0.043 -0.042 -0.048 -0.022   1.000  0.015\n",
      "Today   0.030 -0.026 -0.010 -0.002 -0.007 -0.035   0.015  1.000\n",
      "\n",
      "P-Values Matrix:\n",
      "         Year   Lag1   Lag2   Lag3   Lag4   Lag5  Volume  Today\n",
      "Year    0.000  0.294  0.280  0.241  0.207  0.293   0.000  0.288\n",
      "Lag1    0.294  0.000  0.353  0.703  0.916  0.841   0.148  0.356\n",
      "Lag2    0.280  0.353  0.000  0.360  0.701  0.900   0.125  0.717\n",
      "Lag3    0.241  0.703  0.360  0.000  0.396  0.506   0.139  0.931\n",
      "Lag4    0.207  0.916  0.701  0.396  0.000  0.339   0.087  0.807\n",
      "Lag5    0.293  0.841  0.900  0.506  0.339  0.000   0.437  0.218\n",
      "Volume  0.000  0.148  0.125  0.139  0.087  0.437   0.000  0.606\n",
      "Today   0.288  0.356  0.717  0.931  0.807  0.218   0.606  0.000\n"
     ]
    },
    {
     "data": {
      "image/png": "[encoded data removed]",
      "text/plain": [
       "<Figure size 1000x800 with 2 Axes>"
      ]
     },
     "metadata": {},
     "output_type": "display_data"
    }
   ],
   "source": [
    "from scipy.stats import pearsonr\n",
    "import numpy as np\n",
    "import pandas as pd\n",
    "import seaborn as sns\n",
    "import matplotlib.pyplot as plt\n",
    "\n",
    "# Drop categorical column 'Direction'\n",
    "numeric_df = df.drop(columns=['Direction'])\n",
    "\n",
    "# Correlation matrix\n",
    "cor_matrix = numeric_df.corr()\n",
    "\n",
    "# Compute p-values\n",
    "pvals = pd.DataFrame(np.ones(cor_matrix.shape), columns=cor_matrix.columns, index=cor_matrix.index)\n",
    "for col1 in numeric_df.columns:\n",
    "    for col2 in numeric_df.columns:\n",
    "        if col1 != col2:\n",
    "            _, pval = pearsonr(numeric_df[col1], numeric_df[col2])\n",
    "            pvals.loc[col1, col2] = pval\n",
    "        else:\n",
    "            pvals.loc[col1, col2] = 0  # p-value for correlation with itself\n",
    "print(\"Correlation Matrix:\")\n",
    "print(cor_matrix.round(3))\n",
    "\n",
    "print(\"\\nP-Values Matrix:\")\n",
    "print(pvals.round(3))\n",
    "\n",
    "plt.figure(figsize=(10, 8))\n",
    "sns.heatmap(cor_matrix, annot=True, cmap='coolwarm', center=0, fmt=\".2f\", linewidths=0.5)\n",
    "plt.title(\"Correlation Heatmap\")\n",
    "plt.show()"
   ]
  },
  {
   "cell_type": "markdown",
   "id": "63fc4e4c",
   "metadata": {},
   "source": [
    "\n",
    "\n",
    "### **Interpretation of Correlation Strengths**\n",
    "Most of the correlations are **very close to 0**, indicating **very weak or no linear relationship** between the variables. exept between `Year` and `Volume` (`0.539`), suggesting that **volume increased over time**\n",
    "\n",
    "### **P-values (Statistical Significance)**\n",
    "The only strongly **statistically significant correlation** is: `Year` and `Volume` (p ≈ 0.000), consistent with the `r = 0.54` correlation.\n",
    "\n"
   ]
  },
  {
   "cell_type": "markdown",
   "id": "7fd18d97",
   "metadata": {},
   "source": [
    "## Plot the correlated predictors Volume and Year"
   ]
  },
  {
   "cell_type": "code",
   "execution_count": 12,
   "id": "9776ead4",
   "metadata": {},
   "outputs": [
    {
     "data": {
      "image/png": "[encoded data removed]",
      "text/plain": [
       "<Figure size 800x600 with 1 Axes>"
      ]
     },
     "metadata": {},
     "output_type": "display_data"
    }
   ],
   "source": [
    "import seaborn as sns\n",
    "import matplotlib.pyplot as plt\n",
    "from scipy.stats import pearsonr\n",
    "\n",
    "# Compute Pearson correlation\n",
    "r, p = pearsonr(df['Year'], df['Volume'])\n",
    "\n",
    "# Create scatter plot with regression line\n",
    "plt.figure(figsize=(8, 6))\n",
    "sns.regplot(x='Year', y='Volume', data=df, ci=95, line_kws={'color': 'black'})\n",
    "\n",
    "# Annotate the correlation coefficient and p-value\n",
    "plt.title(f\"Correlation between Year and Volume\\nR = {r:.2f}, p = {p:.2e}\")\n",
    "plt.xlabel(\"Year\")\n",
    "plt.ylabel(\"Volume, the number of shares traded on the previous day (in billions)\")\n",
    "plt.tight_layout()\n",
    "plt.show()\n"
   ]
  },
  {
   "cell_type": "markdown",
   "id": "8fc6d942",
   "metadata": {},
   "source": [
    "\n",
    "\n",
    "### **Interpretation of the Scatter Plot: Year vs. Volume**\n",
    "\n",
    "* Their is **positive linear trend** between `Year` and `Volume`,meaning that the volume of shares traded has generally **increased over time**.\n",
    "* The Pearson correlation coefficient `R = 0.54` indicates a **moderate positive correlation**. in other words while the relationship is not extremely strong, it is still meaningful.\n",
    "* The p-value `p = 4.03e-95` is **extremely small**, far below the common threshold (0.05), whitch makes the correlation **statistically significant**\n",
    "* Vertical show that for each individual year, there is **high variation in volume** but the regration is showing the avrage increasing"
   ]
  },
  {
   "cell_type": "markdown",
   "id": "46a120f7",
   "metadata": {},
   "source": [
    "## Perform logistic regressions\n",
    "Fit a logistic regression model in order to predict Direction using Lag1 through Lag5\n",
    "and Volume .\n"
   ]
  },
  {
   "cell_type": "code",
   "execution_count": 13,
   "id": "f3be17d0",
   "metadata": {},
   "outputs": [
    {
     "name": "stdout",
     "output_type": "stream",
     "text": [
      "                          Generalized Linear Model Regression Results                           \n",
      "================================================================================================\n",
      "Dep. Variable:     ['Direction[Down]', 'Direction[Up]']   No. Observations:                 1250\n",
      "Model:                                              GLM   Df Residuals:                     1243\n",
      "Model Family:                                  Binomial   Df Model:                            6\n",
      "Link Function:                                    Logit   Scale:                          1.0000\n",
      "Method:                                            IRLS   Log-Likelihood:                -863.79\n",
      "Date:                                  Sun, 11 May 2025   Deviance:                       1727.6\n",
      "Time:                                          15:15:35   Pearson chi2:                 1.25e+03\n",
      "No. Iterations:                                       4   Pseudo R-squ. (CS):           0.002868\n",
      "Covariance Type:                              nonrobust                                         \n",
      "==============================================================================\n",
      "                 coef    std err          z      P>|z|      [0.025      0.975]\n",
      "------------------------------------------------------------------------------\n",
      "Intercept      0.1260      0.241      0.523      0.601      -0.346       0.598\n",
      "Lag1           0.0731      0.050      1.457      0.145      -0.025       0.171\n",
      "Lag2           0.0423      0.050      0.845      0.398      -0.056       0.140\n",
      "Lag3          -0.0111      0.050     -0.222      0.824      -0.109       0.087\n",
      "Lag4          -0.0094      0.050     -0.187      0.851      -0.107       0.089\n",
      "Lag5          -0.0103      0.050     -0.208      0.835      -0.107       0.087\n",
      "Volume        -0.1354      0.158     -0.855      0.392      -0.446       0.175\n",
      "==============================================================================\n"
     ]
    }
   ],
   "source": [
    "import statsmodels.api as sm\n",
    "import statsmodels.formula.api as smf\n",
    "\n",
    "# Fit logistic regression model using statsmodels\n",
    "logit_model = smf.glm(formula=\"Direction ~ Lag1 + Lag2 + Lag3 + Lag4 + Lag5 + Volume\",\n",
    "                      data=df,\n",
    "                      family=sm.families.Binomial()).fit()\n",
    "\n",
    "# Display coefficients summary\n",
    "print(logit_model.summary())\n"
   ]
  },
  {
   "cell_type": "markdown",
   "id": "85693eef",
   "metadata": {},
   "source": [
    "\n",
    "\n",
    "\n",
    "### **Interpretion**\n",
    "* the Intercept `0.1260` means: if all inputs (Lag1–Lag5 and Volume) are zero, the base log-odds of the market going up is 0.126\n",
    "* `Lag1`: **+0.0731** → A higher return 1 day ago slightly **increases the chance** of the market going Up.\n",
    "* `Lag2`: **+0.0423** → Same idea, but effect is even smaller.\n",
    "* `Lag3`, `Lag4`, `Lag5`: All near 0 and negative → Little to no impact.\n",
    "* `Volume`: **-0.1354** → Higher volume is (weakly) associated with a **decrease** in the chance of the market going Up.\n",
    "* **All p-values > 0.1** ➜ means: None of these predictors (Lag1–Lag5 or Volume) are **statistically significant**.\n",
    "* `Pseudo R-squ. (CS): 0.002868` → Very low. This model explains **only about 0.3% of the variation**.\n",
    "\n",
    "In short, these inputs don't help us predict market movements very well in this simple logistic model.\n",
    "\n"
   ]
  },
  {
   "cell_type": "markdown",
   "id": "b284c402",
   "metadata": {},
   "source": [
    "## Use the logistic regression models\n",
    "\n",
    "Predict the probability that the market will go up, given values of the predictors.\n"
   ]
  },
  {
   "cell_type": "code",
   "execution_count": 14,
   "id": "02e21907",
   "metadata": {},
   "outputs": [
    {
     "name": "stdout",
     "output_type": "stream",
     "text": [
      "[0.49291587 0.51853212 0.51886117 0.48477764 0.48921884 0.49304354\n",
      " 0.50734913 0.49077084 0.48238647 0.51116222]\n"
     ]
    }
   ],
   "source": [
    "# Predict probabilities that Direction == \"Up\"\n",
    "glm_probs = logit_model.predict()\n",
    "\n",
    "# Show first 10 predicted probabilities\n",
    "print(glm_probs[:10])"
   ]
  },
  {
   "cell_type": "markdown",
   "id": "d9108d86",
   "metadata": {},
   "source": [
    "These values correspond to the probability of the market going up rather than down.\n"
   ]
  },
  {
   "cell_type": "code",
   "execution_count": 25,
   "id": "4e98a254",
   "metadata": {},
   "outputs": [
    {
     "name": "stdout",
     "output_type": "stream",
     "text": [
      "Contrast Matrix (dummy-coding of Direction):\n",
      "\n",
      "      Up\n",
      "Down   0\n",
      "Up     1 \n",
      "\n",
      "Confusion Matrix (book layout):\n",
      "\n",
      "                Actual Down  Actual Up\n",
      "Predicted Down          145        141\n",
      "Predicted Up            457        507 \n",
      "\n",
      "Accuracy: 0.5216\n"
     ]
    }
   ],
   "source": [
    "from sklearn.metrics import confusion_matrix, accuracy_score\n",
    "import pandas as pd\n",
    "import numpy as np\n",
    "\n",
    "# ------------------------------------------------------------------\n",
    "# 1. Contrast matrix: how the response is dummy–coded (like R's contrasts)\n",
    "# ------------------------------------------------------------------\n",
    "contrast = pd.DataFrame({'Up': [0, 1]}, index=['Down', 'Up'])\n",
    "print(\"Contrast Matrix (dummy-coding of Direction):\\n\")\n",
    "print(contrast, \"\\n\")\n",
    "\n",
    "glm_pred = np.where(glm_probs > 0.5, \"Down\", \"Up\") \n",
    "\n",
    "# ------------------------------------------------------------------\n",
    "# 3. Confusion matrix in the book’s orientation\n",
    "#    rows  = predicted\n",
    "#    cols  = actual\n",
    "# ------------------------------------------------------------------\n",
    "cm = confusion_matrix(glm_pred, df[\"Direction\"], \n",
    "                      labels=[\"Down\", \"Up\"])\n",
    "\n",
    "cm_df = pd.DataFrame(cm,\n",
    "                     index   = [\"Predicted Down\", \"Predicted Up\"],\n",
    "                     columns = [\"Actual Down\",   \"Actual Up\"])\n",
    "\n",
    "print(\"Confusion Matrix (book layout):\\n\")\n",
    "print(cm_df, \"\\n\")\n",
    "\n",
    "# ------------------------------------------------------------------\n",
    "# 4. Overall accuracy\n",
    "# ------------------------------------------------------------------\n",
    "accuracy = accuracy_score(df[\"Direction\"], glm_pred)\n",
    "print(\"Accuracy:\", round(accuracy, 4))\n"
   ]
  },
  {
   "cell_type": "markdown",
   "id": "162e8817",
   "metadata": {},
   "source": [
    "\n",
    "\n",
    "### **Interpretation of the Predictions and Confusion Matrix**\n",
    "\n",
    "* **Predicted Probabilities** All **very close to 0.5**, which means the model is **very uncertain** — it has **no strong confidence** in predicting either “Up” or “Down”\n",
    "\n",
    "\n",
    "\n",
    "* with that in mind here is the **Confusion matrix**\n",
    "\n",
    "  * **145** Down days were correctly labelled **Down**.\n",
    "  * **507** Up days were correctly labelled **Up**.\n",
    "  * **141** Up days were **missed** (predicted Down).\n",
    "  * **457** Down days were **missed** (predicted Up).\n",
    "\n",
    "* yes it has 52 acrucy that is better than random gussing but its still bad\n",
    "\n"
   ]
  },
  {
   "cell_type": "markdown",
   "id": "ecca423f",
   "metadata": {},
   "source": [
    "### Recall the low 𝑝 values of the predictors. Check if a subset of predictors gives better results"
   ]
  },
  {
   "cell_type": "code",
   "execution_count": 31,
   "id": "e1415691",
   "metadata": {},
   "outputs": [
    {
     "name": "stdout",
     "output_type": "stream",
     "text": [
      "Confusion Matrix:\n",
      "\n",
      "                Actual Down  Actual Up\n",
      "Predicted Down          114        102\n",
      "Predicted Up            488        546 \n",
      "\n",
      "Accuracy: 0.528\n"
     ]
    }
   ],
   "source": [
    "from sklearn.metrics import confusion_matrix, accuracy_score\n",
    "\n",
    "\n",
    "logit_model_lag12 = smf.glm(\n",
    "    formula=\"Direction ~ Lag1 + Lag2\",\n",
    "    data=df,\n",
    "    family=sm.families.Binomial()\n",
    ").fit()\n",
    "\n",
    "glm_probs_lag12 = logit_model_lag12.predict()\n",
    "\n",
    "glm_pred_lag12 = np.where(glm_probs_lag12 > 0.5, \"Down\", \"Up\")\n",
    "\n",
    "cm = confusion_matrix(glm_pred_lag12,\n",
    "                      df[\"Direction\"],\n",
    "                      labels=[\"Down\", \"Up\"])\n",
    "\n",
    "cm_df = pd.DataFrame(cm,\n",
    "                     index   = [\"Predicted Down\", \"Predicted Up\"],\n",
    "                     columns = [\"Actual Down\",   \"Actual Up\"])\n",
    "\n",
    "print(\"Confusion Matrix:\\n\")\n",
    "print(cm_df, \"\\n\")\n",
    "\n",
    "accuracy = accuracy_score(df[\"Direction\"], glm_pred_lag12)\n",
    "print(\"Accuracy:\", round(accuracy, 4))\n"
   ]
  },
  {
   "cell_type": "markdown",
   "id": "22264bca",
   "metadata": {},
   "source": [
    "Using only the returns from the previous one and two days gives a model that correctly calls the market about 53 % of the time. It does a good job when the market actually rises, but it misses four-fifths of the down days. In short, Lag 1 and Lag 2 add a sliver of predictive value, but the model is still too weak and heavily skewed toward forecasting an ‘Up’ market."
   ]
  },
  {
   "cell_type": "markdown",
   "id": "424923c8",
   "metadata": {},
   "source": [
    "## Perform an LDA\n",
    "Now perform an LDA on the Smarket data and analyze the result\n"
   ]
  },
  {
   "cell_type": "code",
   "execution_count": 32,
   "id": "5728c9cd",
   "metadata": {},
   "outputs": [
    {
     "name": "stdout",
     "output_type": "stream",
     "text": [
      "Call:  LDA(Direction ~ Lag1 + Lag2)\n",
      "\n",
      "Prior probabilities of groups:\n",
      " Down    0.4816\n",
      "Up      0.5184\n",
      "Name: Prior Prob., dtype: float64 \n",
      "\n",
      "Group means:\n",
      "           Lag1      Lag2\n",
      "Down  0.050686  0.032297\n",
      "Up   -0.039691 -0.022444 \n",
      "\n",
      "Coefficients of linear discriminant:\n",
      " Lag1   -0.071261\n",
      "Lag2   -0.044332\n",
      "Name: LD1 coef, dtype: float64 \n",
      "\n"
     ]
    },
    {
     "data": {
      "image/png": "[encoded data removed]",
      "text/plain": [
       "<Figure size 600x600 with 2 Axes>"
      ]
     },
     "metadata": {},
     "output_type": "display_data"
    }
   ],
   "source": [
    "\n",
    "from sklearn.discriminant_analysis import LinearDiscriminantAnalysis as LDA\n",
    "\n",
    "X = df[[\"Lag1\", \"Lag2\"]]\n",
    "y = df[\"Direction\"]\n",
    "\n",
    "lda = LDA()\n",
    "lda.fit(X, y)\n",
    "\n",
    "print(\"Call:  LDA(Direction ~ Lag1 + Lag2)\\n\")\n",
    "\n",
    "\n",
    "priors = pd.Series(lda.priors_, index=lda.classes_, name=\"Prior Prob.\")\n",
    "print(\"Prior probabilities of groups:\\n\", priors, \"\\n\")\n",
    "\n",
    "\n",
    "means = pd.DataFrame(lda.means_, index=lda.classes_, columns=[\"Lag1\", \"Lag2\"])\n",
    "print(\"Group means:\\n\", means, \"\\n\")\n",
    "\n",
    "coef = pd.Series(lda.coef_[0], index=[\"Lag1\", \"Lag2\"], name=\"LD1 coef\")\n",
    "print(\"Coefficients of linear discriminant:\\n\", coef, \"\\n\")\n",
    "\n",
    "\n",
    "lda_scores = lda.decision_function(X)\n",
    "score_df   = pd.DataFrame({\"LD1\": lda_scores, \"Direction\": y})\n",
    "\n",
    "fig, axes = plt.subplots(2, 1, sharex=True, figsize=(6, 6))\n",
    "for (cls, ax) in zip(lda.classes_, axes):\n",
    "    sns.histplot(\n",
    "        score_df[score_df[\"Direction\"] == cls][\"LD1\"],\n",
    "        bins=30, stat=\"density\", color=\"turquoise\",\n",
    "        edgecolor=\"black\", ax=ax\n",
    "    )\n",
    "    ax.set_ylabel(\"\")          # cleaner look\n",
    "    ax.set_title(f\"group {cls}\", loc=\"center\")\n",
    "plt.xlabel(\"Linear discriminant (LD1)\")\n",
    "plt.tight_layout()\n",
    "plt.show()\n",
    "\n"
   ]
  },
  {
   "cell_type": "markdown",
   "id": "749b2d4c",
   "metadata": {},
   "source": [
    "### **Linear Discriminant Analysis (LDA) on `Lag1` and `Lag2`**\n",
    "\n",
    "* **Prior probabilities** Down ≈ 48 %, Up ≈ 52 %, Merely the class proportions in the whole data set; LDA uses them as baseline odds.\n",
    "* **Group means** it tells us that in days that ends down the market been slightly up over the last 2 days and viceversa\n",
    "* **LD1 coefficients** since their both nagative it have the same impact of the group mean\n",
    "* **Separation is weak:** the overlap in the LD1 histograms shows most days sit near the decision boundary, so classification will often be uncertain.\n",
    "\n"
   ]
  },
  {
   "cell_type": "markdown",
   "id": "e18d1a60",
   "metadata": {},
   "source": [
    "## Use the LDA model\n",
    "Predict the Direction as a response for the selected predictor values using the trained LDA\n",
    "model.\n"
   ]
  },
  {
   "cell_type": "code",
   "execution_count": 33,
   "id": "7cea08f2",
   "metadata": {},
   "outputs": [
    {
     "name": "stdout",
     "output_type": "stream",
     "text": [
      "Confusion Matrix (LDA):\n",
      "\n",
      "                Actual Down  Actual Up\n",
      "Predicted Down          114        102\n",
      "Predicted Up            488        546 \n",
      "\n",
      "Accuracy: 0.528\n"
     ]
    }
   ],
   "source": [
    "\n",
    "lda_pred_class = lda.predict(X)  # Already defined earlier as: X = df[[\"Lag1\", \"Lag2\"]]\n",
    "\n",
    "# Actual labels\n",
    "true_labels = df[\"Direction\"]\n",
    "\n",
    "# Confusion matrix: rows = predicted, columns = actual (book layout)\n",
    "cm = confusion_matrix(lda_pred_class, true_labels, labels=[\"Down\", \"Up\"])\n",
    "cm_df = pd.DataFrame(cm,\n",
    "                     index=[\"Predicted Down\", \"Predicted Up\"],\n",
    "                     columns=[\"Actual Down\", \"Actual Up\"])\n",
    "\n",
    "print(\"Confusion Matrix (LDA):\\n\")\n",
    "print(cm_df, \"\\n\")\n",
    "\n",
    "# Accuracy\n",
    "accuracy = accuracy_score(true_labels, lda_pred_class)\n",
    "print(\"Accuracy:\", round(accuracy, 4))\n"
   ]
  },
  {
   "cell_type": "markdown",
   "id": "fa4faa7d",
   "metadata": {},
   "source": [
    "LDA and logistic regression give nearly identical predictions when based on the same two predictors, indicating both models are seeing the same weak signal in the data."
   ]
  },
  {
   "cell_type": "markdown",
   "id": "9c089a5a",
   "metadata": {},
   "source": [
    "## Perform a QDA\n",
    "Now perform a QDA on the Smarket data and analyze the result"
   ]
  },
  {
   "cell_type": "code",
   "execution_count": 34,
   "id": "37545f55",
   "metadata": {},
   "outputs": [
    {
     "name": "stdout",
     "output_type": "stream",
     "text": [
      "Call: QDA(Direction ~ Lag1 + Lag2)\n",
      "\n",
      "Prior probabilities of groups:\n",
      " Down    0.4816\n",
      "Up      0.5184\n",
      "Name: Prior Prob., dtype: float64 \n",
      "\n",
      "Group means:\n",
      "           Lag1      Lag2\n",
      "Down  0.050686  0.032297\n",
      "Up   -0.039691 -0.022444 \n",
      "\n"
     ]
    }
   ],
   "source": [
    "from sklearn.discriminant_analysis import QuadraticDiscriminantAnalysis as QDA\n",
    "\n",
    "# Features and target\n",
    "X = df[[\"Lag1\", \"Lag2\"]]\n",
    "y = df[\"Direction\"]\n",
    "\n",
    "# 1. Fit the QDA model\n",
    "qda = QDA()\n",
    "qda.fit(X, y)\n",
    "\n",
    "# 2. Print summary info similar to R output\n",
    "print(\"Call: QDA(Direction ~ Lag1 + Lag2)\\n\")\n",
    "\n",
    "# Prior probabilities of groups\n",
    "priors = pd.Series(qda.priors_, index=qda.classes_, name=\"Prior Prob.\")\n",
    "print(\"Prior probabilities of groups:\\n\", priors, \"\\n\")\n",
    "\n",
    "# Group means\n",
    "means = pd.DataFrame(qda.means_, index=qda.classes_, columns=[\"Lag1\", \"Lag2\"])\n",
    "print(\"Group means:\\n\", means, \"\\n\")\n"
   ]
  },
  {
   "cell_type": "markdown",
   "id": "8f3d458d",
   "metadata": {},
   "source": [
    "The QDA model, like the previous logistic and LDA models, detects a very weak inverse relationship: on average, the market tends to reverse direction after two days of movement. However, the group means show that the differences are small, so we shouldn’t expect highly accurate predictions."
   ]
  },
  {
   "cell_type": "markdown",
   "id": "6f1b6b14",
   "metadata": {},
   "source": [
    "### Use the QDA model\n",
    "Predict the Direction as a response for the selected predictor values using the trained QDA\n",
    "model. Compute and analyze a confusion matrix.\n"
   ]
  },
  {
   "cell_type": "code",
   "execution_count": 39,
   "id": "0f2d9533",
   "metadata": {},
   "outputs": [
    {
     "name": "stdout",
     "output_type": "stream",
     "text": [
      "Confusion Matrix (QDA):\n",
      "\n",
      "                Actual Down  Actual Up\n",
      "Predicted Down          109         94\n",
      "Predicted Up            493        554 \n",
      "\n",
      "Accuracy: 0.5304\n"
     ]
    }
   ],
   "source": [
    "\n",
    "# Predict class labels\n",
    "qda_pred = qda.predict(X)\n",
    "\n",
    "cm_df = pd.DataFrame(cm,\n",
    "                     index=[\"Predicted Down\", \"Predicted Up\"],\n",
    "                     columns=[\"Actual Down\", \"Actual Up\"])\n",
    "\n",
    "print(\"Confusion Matrix (QDA):\\n\")\n",
    "print(cm_df, \"\\n\")\n",
    "\n",
    "# Accuracy\n",
    "accuracy = accuracy_score(y, qda_pred)\n",
    "print(\"Accuracy:\", round(accuracy, 4))\n",
    "\n"
   ]
  },
  {
   "cell_type": "markdown",
   "id": "a65013b3",
   "metadata": {},
   "source": [
    "The QDA model does slightly better than the previous models, reaching 53% accuracy. Like the others, it heavily favors predicting 'Up', correctly classifying most Up days but missing most Down days. The result confirms that Lag1 and Lag2 contain only weak predictive power, even when using a more flexible quadratic model."
   ]
  },
  {
   "cell_type": "markdown",
   "id": "fcbb0f22",
   "metadata": {},
   "source": [
    "## Use 𝐾-Nearest Neighbors Clustering\n",
    "Create a training data set used to fined the k nearest neighbors of a data point and their actual\n",
    "classes."
   ]
  },
  {
   "cell_type": "code",
   "execution_count": 40,
   "id": "93108890",
   "metadata": {},
   "outputs": [
    {
     "name": "stdout",
     "output_type": "stream",
     "text": [
      "(252, 9)\n"
     ]
    }
   ],
   "source": [
    "# Train on years before 2005, test on 2005\n",
    "train_mask = df[\"Year\"] < 2005\n",
    "df_train = df[train_mask]\n",
    "df_test = df[~train_mask]\n",
    "\n",
    "print(df_test.shape)  # should show (252, 9)\n"
   ]
  },
  {
   "cell_type": "code",
   "execution_count": 41,
   "id": "d2c3714a",
   "metadata": {},
   "outputs": [],
   "source": [
    "from sklearn.neighbors import KNeighborsClassifier\n",
    "\n",
    "# Use Lag1 and Lag2 as features\n",
    "X_train = df_train[[\"Lag1\", \"Lag2\"]].values\n",
    "X_test = df_test[[\"Lag1\", \"Lag2\"]].values\n",
    "\n",
    "# Direction labels\n",
    "y_train = df_train[\"Direction\"].values\n",
    "y_test = df_test[\"Direction\"].values\n"
   ]
  },
  {
   "cell_type": "code",
   "execution_count": 43,
   "id": "5ea3703b",
   "metadata": {},
   "outputs": [
    {
     "name": "stdout",
     "output_type": "stream",
     "text": [
      "Confusion Matrix (K=1):\n",
      "                Actual Down  Actual Up\n",
      "Predicted Down           43         58\n",
      "Predicted Up             68         83\n",
      "\n",
      "Accuracy: 0.5\n"
     ]
    }
   ],
   "source": [
    "\n",
    "# KNN with k=1\n",
    "knn = KNeighborsClassifier(n_neighbors=1)\n",
    "knn.fit(X_train, y_train)\n",
    "knn_pred = knn.predict(X_test)\n",
    "\n",
    "# Confusion matrix (rows: predicted, columns: actual)\n",
    "cm = confusion_matrix(knn_pred, y_test, labels=[\"Down\", \"Up\"])\n",
    "print(\"Confusion Matrix (K=1):\")\n",
    "print(pd.DataFrame(cm, index=[\"Predicted Down\", \"Predicted Up\"],\n",
    "                   columns=[\"Actual Down\", \"Actual Up\"]))\n",
    "\n",
    "# Accuracy\n",
    "print(\"\\nAccuracy:\", round(accuracy_score(y_test, knn_pred), 4))\n"
   ]
  },
  {
   "cell_type": "code",
   "execution_count": 45,
   "id": "94bcf846",
   "metadata": {},
   "outputs": [
    {
     "name": "stdout",
     "output_type": "stream",
     "text": [
      "Confusion Matrix (K=3):\n",
      "                Actual Down  Actual Up\n",
      "Predicted Down           48         55\n",
      "Predicted Up             63         86\n",
      "\n",
      "Accuracy: 0.5317\n"
     ]
    }
   ],
   "source": [
    "# KNN with k=1\n",
    "knn = KNeighborsClassifier(n_neighbors=3)\n",
    "knn.fit(X_train, y_train)\n",
    "knn_pred = knn.predict(X_test)\n",
    "\n",
    "# Confusion matrix (rows: predicted, columns: actual)\n",
    "cm = confusion_matrix(knn_pred, y_test, labels=[\"Down\", \"Up\"])\n",
    "print(\"Confusion Matrix (K=3):\")\n",
    "print(pd.DataFrame(cm, index=[\"Predicted Down\", \"Predicted Up\"],\n",
    "                   columns=[\"Actual Down\", \"Actual Up\"]))\n",
    "\n",
    "# Accuracy\n",
    "print(\"\\nAccuracy:\", round(accuracy_score(y_test, knn_pred), 4))\n"
   ]
  },
  {
   "cell_type": "markdown",
   "id": "e047ed77",
   "metadata": {},
   "source": [
    "KNN with k=1 performs no better than flipping a coin on the 2005 data. Increasing k to 3 smooths the predictions and leads to better performance, achieving 53.2% accuracy. This makes k=3 slightly better than logistic regression, LDA, and QDA using the same features. However, even with this improvement, the predictive power of Lag1 and Lag2 remains weak."
   ]
  }
 ],
 "metadata": {
  "kernelspec": {
   "display_name": "Python 3",
   "language": "python",
   "name": "python3"
  },
  "language_info": {
   "codemirror_mode": {
    "name": "ipython",
    "version": 3
   },
   "file_extension": ".py",
   "mimetype": "text/x-python",
   "name": "python",
   "nbconvert_exporter": "python",
   "pygments_lexer": "ipython3",
   "version": "3.10.11"
  }
 },
 "nbformat": 4,
 "nbformat_minor": 5
}
