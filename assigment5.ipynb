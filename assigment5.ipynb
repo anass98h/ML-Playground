{
 "cells": [
  {
   "cell_type": "markdown",
   "id": "82ace6d9",
   "metadata": {},
   "source": [
    "# Conceptual\n",
    "## Explain how k-fold cross-validation is implemented.\n",
    "### **k-Fold Cross-Validation** is implemented as follows\n",
    "\n",
    "1. **Split the Dataset**:\n",
    "   The full dataset is randomly divided into **k approximately equal-sized subsets**, called *folds*.\n",
    "\n",
    "2. **Iterative Model Fitting and Validation**:\n",
    "   For each of the *k* iterations:\n",
    "\n",
    "   * One of the *k* folds is designated as the **validation set**.\n",
    "   * The **model is trained** on the remaining *k−1* folds.\n",
    "   * The **performance (e.g., MSE for regression or error rate for classification)** is recorded on the validation fold.\n",
    "\n",
    "3. **Aggregate the Results**:\n",
    "   After all *k* folds have served as validation sets once, the **performance metrics** from each fold are **averaged** to produce the final cross-validation estimate.\n",
    "\n",
    "---\n",
    "\n",
    "## What are the advantages and disadvantages of k-fold crossvalidation relative to:\n",
    "### The validation set approach?\n",
    "#### **Advantages of k-Fold CV over the Validation Set Approach**\n",
    "\n",
    "1. **Lower Variance in Test Error Estimates**\n",
    "    *  Becuse the validation set approach depends heavily on how the data is split. Results can vary a lot depending on which points are in the training vs. validation sets. in contrast to k-Fold CV uses multiple splits and averages the results as i mentioned above, leading to **more stable and reliable performance estimates**\n",
    "    \n",
    "2. **Better Use of Data**\n",
    "\n",
    "   * The validation set approach only trains on a subset of the data (the training set), wasting data that could help model fitting. while the k-Fold uses the whole data for both traning and validation.\n",
    "\n",
    "3. **Less Overfitting Risk in Model Selection**\n",
    "\n",
    "   * When tuning hyperparameters or selecting features, k-Fold CV gives a more accurate estimate of performance, reducing the risk of overfitting to one specific validation split. since the validation data keep rotating\n",
    "\n",
    "---\n",
    "\n",
    "#### **Disadvantages of k-Fold CV Compared to the Validation Set Approach**\n",
    "\n",
    "1. **Higher Computational Cost**\n",
    "\n",
    "   * k-Fold CV involves training the model **k times** (once per fold), whereas the validation set approach trains it only once. This makes k-Fold CV takes more time and computation power\n",
    "\n",
    "---\n",
    "### LOOCV?\n",
    "\n",
    "\n",
    "### **Advantages of k-Fold CV over LOOCV**\n",
    "\n",
    "1. **Lower Variance in Test Error Estimate**\n",
    "\n",
    "   * LOOCV trains on nearly identical datasets (only one observation is left out each time), which leads to **highly correlated models**, This correlation makes the **average error estimate from LOOCV high in variance**, while k-Fold CV trains on more distinct splits, reducing correlation and thus typically yielding a **more accurate and lower-variance test error estimate**.\n",
    "\n",
    "2. **Much Faster Computation**\n",
    "\n",
    "   * LOOCV trains the model **n times** (once per data point), which is computationally expensive, k-Fold CV only trains the model **k times** , making it faster and more computation efftint.\n",
    "\n",
    "---\n",
    "\n",
    "###  **Disadvantages of k-Fold CV Compared to LOOCV**\n",
    "\n",
    "1. **Slightly Higher Bias**\n",
    "\n",
    "   * LOOCV uses **n−1** samples for training in each fold, which is nearly the entire dataset, so its bias is lower, k-Fold CV uses only **(k−1)/k × n** samples in each training fold, leading to **slightly higher bias** compared to LOOCV.\n",
    "\n",
    "---\n",
    "\n"
   ]
  },
  {
   "cell_type": "markdown",
   "id": "7c5373da",
   "metadata": {},
   "source": [
    "# Practical\n",
    "## Overview of the steps\n",
    "1. Loading the data and getting an overview of the data\n",
    "2. Estimating the standard error of parameters of a Linear Regression Model\n",
    "3. Estimating the standard error of parameters of a Quadratic Regression Model\n",
    "##Steps in detail\n",
    "Loading the data and getting an overview of the data\n",
    "Load the data file Auto.csv .\n"
   ]
  },
  {
   "cell_type": "code",
   "execution_count": 20,
   "id": "c32d51ab",
   "metadata": {},
   "outputs": [],
   "source": [
    "import pandas as pd\n",
    "df = pd.read_csv(\"dataset/Auto.csv\", index_col=0)"
   ]
  },
  {
   "cell_type": "markdown",
   "id": "3dfc6411",
   "metadata": {},
   "source": [
    "Display the number of predictors and possible responses and their names:\n"
   ]
  },
  {
   "cell_type": "code",
   "execution_count": 21,
   "id": "8f775f83",
   "metadata": {},
   "outputs": [
    {
     "name": "stdout",
     "output_type": "stream",
     "text": [
      "9\n",
      "['mpg', 'cylinders', 'displacement', 'horsepower', 'weight', 'acceleration', 'year', 'origin', 'name']\n"
     ]
    }
   ],
   "source": [
    "print(df.shape[1])\n",
    "print(df.columns.tolist())"
   ]
  },
  {
   "cell_type": "markdown",
   "id": "3231b062",
   "metadata": {},
   "source": [
    "Print a statistic summary of the predictors and responses:"
   ]
  },
  {
   "cell_type": "code",
   "execution_count": 22,
   "id": "e50aea92",
   "metadata": {},
   "outputs": [
    {
     "name": "stdout",
     "output_type": "stream",
     "text": [
      "               mpg   cylinders  displacement  horsepower       weight  \\\n",
      "count   392.000000  392.000000    392.000000  392.000000   392.000000   \n",
      "unique         NaN         NaN           NaN         NaN          NaN   \n",
      "top            NaN         NaN           NaN         NaN          NaN   \n",
      "freq           NaN         NaN           NaN         NaN          NaN   \n",
      "mean     23.445918    5.471939    194.411990  104.469388  2977.584184   \n",
      "std       7.805007    1.705783    104.644004   38.491160   849.402560   \n",
      "min       9.000000    3.000000     68.000000   46.000000  1613.000000   \n",
      "25%      17.000000    4.000000    105.000000   75.000000  2225.250000   \n",
      "50%      22.750000    4.000000    151.000000   93.500000  2803.500000   \n",
      "75%      29.000000    8.000000    275.750000  126.000000  3614.750000   \n",
      "max      46.600000    8.000000    455.000000  230.000000  5140.000000   \n",
      "\n",
      "        acceleration        year      origin         name  \n",
      "count     392.000000  392.000000  392.000000          392  \n",
      "unique           NaN         NaN         NaN          301  \n",
      "top              NaN         NaN         NaN  amc matador  \n",
      "freq             NaN         NaN         NaN            5  \n",
      "mean       15.541327   75.979592    1.576531          NaN  \n",
      "std         2.758864    3.683737    0.805518          NaN  \n",
      "min         8.000000   70.000000    1.000000          NaN  \n",
      "25%        13.775000   73.000000    1.000000          NaN  \n",
      "50%        15.500000   76.000000    1.000000          NaN  \n",
      "75%        17.025000   79.000000    2.000000          NaN  \n",
      "max        24.800000   82.000000    3.000000          NaN  \n"
     ]
    }
   ],
   "source": [
    "print(df.describe(include='all'))"
   ]
  },
  {
   "cell_type": "markdown",
   "id": "2cbaabf2",
   "metadata": {},
   "source": [
    "Display the number of data points:\n"
   ]
  },
  {
   "cell_type": "code",
   "execution_count": 23,
   "id": "29294d76",
   "metadata": {},
   "outputs": [
    {
     "name": "stdout",
     "output_type": "stream",
     "text": [
      "392\n"
     ]
    }
   ],
   "source": [
    "print(df.shape[0])"
   ]
  },
  {
   "cell_type": "markdown",
   "id": "4bc3c289",
   "metadata": {},
   "source": [
    "Display the data in a table (subset of rows is sufficient):\n"
   ]
  },
  {
   "cell_type": "code",
   "execution_count": 24,
   "id": "ad452d32",
   "metadata": {},
   "outputs": [
    {
     "name": "stdout",
     "output_type": "stream",
     "text": [
      "    mpg  cylinders  displacement  horsepower  weight  acceleration  year  \\\n",
      "1  18.0          8         307.0         130    3504          12.0    70   \n",
      "2  15.0          8         350.0         165    3693          11.5    70   \n",
      "3  18.0          8         318.0         150    3436          11.0    70   \n",
      "4  16.0          8         304.0         150    3433          12.0    70   \n",
      "5  17.0          8         302.0         140    3449          10.5    70   \n",
      "\n",
      "   origin                       name  \n",
      "1       1  chevrolet chevelle malibu  \n",
      "2       1          buick skylark 320  \n",
      "3       1         plymouth satellite  \n",
      "4       1              amc rebel sst  \n",
      "5       1                ford torino  \n"
     ]
    }
   ],
   "source": [
    "print(df.head())"
   ]
  },
  {
   "cell_type": "markdown",
   "id": "010af175",
   "metadata": {},
   "source": [
    "Compute the pairwise correlation of the predictors in the data set.\n"
   ]
  },
  {
   "cell_type": "code",
   "execution_count": 25,
   "id": "6495ff12",
   "metadata": {},
   "outputs": [
    {
     "name": "stdout",
     "output_type": "stream",
     "text": [
      "Correlation matrix ($r):\n",
      "               mpg  cylinders  displacement  horsepower  weight  acceleration  \\\n",
      "mpg           1.00      -0.78         -0.81       -0.78   -0.83          0.42   \n",
      "cylinders    -0.78       1.00          0.95        0.84    0.90         -0.50   \n",
      "displacement -0.81       0.95          1.00        0.90    0.93         -0.54   \n",
      "horsepower   -0.78       0.84          0.90        1.00    0.86         -0.69   \n",
      "weight       -0.83       0.90          0.93        0.86    1.00         -0.42   \n",
      "acceleration  0.42      -0.50         -0.54       -0.69   -0.42          1.00   \n",
      "year          0.58      -0.35         -0.37       -0.42   -0.31          0.29   \n",
      "origin        0.57      -0.57         -0.61       -0.46   -0.59          0.21   \n",
      "\n",
      "              year  origin  \n",
      "mpg           0.58    0.57  \n",
      "cylinders    -0.35   -0.57  \n",
      "displacement -0.37   -0.61  \n",
      "horsepower   -0.42   -0.46  \n",
      "weight       -0.31   -0.59  \n",
      "acceleration  0.29    0.21  \n",
      "year          1.00    0.18  \n",
      "origin        0.18    1.00  \n",
      "\n",
      "P-value matrix ($p):\n",
      "                   mpg cylinders displacement horsepower    weight  \\\n",
      "mpg            0.0e+00   1.3e-80      1.7e-90    7.0e-81  6.0e-102   \n",
      "cylinders      1.3e-80   0.0e+00     1.3e-200   4.6e-107  9.3e-141   \n",
      "displacement   1.7e-90  1.3e-200      0.0e+00   1.5e-140  3.5e-175   \n",
      "horsepower     7.0e-81  4.6e-107     1.5e-140    0.0e+00  1.4e-118   \n",
      "weight        6.0e-102  9.3e-141     3.5e-175   1.4e-118   0.0e+00   \n",
      "acceleration   1.8e-18   1.0e-26      1.5e-31    1.6e-56   6.6e-18   \n",
      "year           1.1e-36   1.9e-12      3.7e-14    7.2e-18   4.0e-10   \n",
      "origin         1.8e-34   5.3e-35      4.5e-42    1.9e-21   2.3e-37   \n",
      "\n",
      "             acceleration     year   origin  \n",
      "mpg               1.8e-18  1.1e-36  1.8e-34  \n",
      "cylinders         1.0e-26  1.9e-12  5.3e-35  \n",
      "displacement      1.5e-31  3.7e-14  4.5e-42  \n",
      "horsepower        1.6e-56  7.2e-18  1.9e-21  \n",
      "weight            6.6e-18  4.0e-10  2.3e-37  \n",
      "acceleration      0.0e+00  4.7e-09  2.2e-05  \n",
      "year              4.7e-09  0.0e+00  3.0e-04  \n",
      "origin            2.2e-05  3.0e-04  0.0e+00  \n",
      "\n",
      "Symbolic correlation matrix ($sym):\n",
      "             mpg cylinders displacement horsepower weight acceleration year  \\\n",
      "mpg            B         ,            +          ,      +            .    .   \n",
      "cylinders      ,         B            B          +      +            .    .   \n",
      "displacement   +         B            B          +      *            .    .   \n",
      "horsepower     ,         +            +          B      +            ,    .   \n",
      "weight         +         +            *          +      B            .    .   \n",
      "acceleration   .         .            .          ,      .            B        \n",
      "year           .         .            .          .      .                 B   \n",
      "origin         .         .            ,          .      .                     \n",
      "\n",
      "             origin  \n",
      "mpg               .  \n",
      "cylinders         .  \n",
      "displacement      ,  \n",
      "horsepower        .  \n",
      "weight            .  \n",
      "acceleration         \n",
      "year                 \n",
      "origin            B  \n",
      "\n",
      "Legend:\n",
      "0 ‘ ’  0.3 ‘.’  0.6 ‘,’  0.8 ‘+’  0.9 ‘*’  0.95 ‘B’  1\n"
     ]
    },
    {
     "name": "stderr",
     "output_type": "stream",
     "text": [
      "C:\\Users\\anass\\AppData\\Local\\Temp\\ipykernel_6868\\1984784157.py:43: FutureWarning: DataFrame.applymap has been deprecated. Use DataFrame.map instead.\n",
      "  print(p_matrix.applymap(lambda x: f\"{x:.1e}\"), end='\\n\\n')\n"
     ]
    },
    {
     "data": {
      "image/png": "[encoded data removed]",
      "text/plain": [
       "<Figure size 1000x800 with 2 Axes>"
      ]
     },
     "metadata": {},
     "output_type": "display_data"
    }
   ],
   "source": [
    "import pandas as pd\n",
    "import numpy as np\n",
    "from scipy.stats import pearsonr\n",
    "import seaborn as sns\n",
    "import matplotlib.pyplot as plt\n",
    "\n",
    "# Drop the 'name' column\n",
    "df_numeric = df.drop(columns=['name'])\n",
    "\n",
    "# Initialize matrices\n",
    "cols = df_numeric.columns\n",
    "n = len(cols)\n",
    "r_matrix = pd.DataFrame(np.zeros((n, n)), columns=cols, index=cols)\n",
    "p_matrix = pd.DataFrame(np.zeros((n, n)), columns=cols, index=cols)\n",
    "symbol_matrix = pd.DataFrame('', columns=cols, index=cols)\n",
    "\n",
    "# Symbol legend cutoffs\n",
    "legend = [(0.95, 'B'), (0.9, '*'), (0.8, '+'), (0.6, ','), (0.3, '.'), (0, ' ')]\n",
    "\n",
    "# Compute pairwise correlations\n",
    "for i in range(n):\n",
    "    for j in range(n):\n",
    "        if i <= j:\n",
    "            r, p = pearsonr(df_numeric[cols[i]], df_numeric[cols[j]])\n",
    "            r_matrix.iloc[i, j] = r_matrix.iloc[j, i] = r\n",
    "            p_matrix.iloc[i, j] = p_matrix.iloc[j, i] = p\n",
    "            # Assign symbols based on cutoff\n",
    "            for cutoff, symbol in legend:\n",
    "                if abs(r) >= cutoff:\n",
    "                    symbol_matrix.iloc[i, j] = symbol_matrix.iloc[j, i] = symbol\n",
    "                    break\n",
    "        elif i == j:\n",
    "            r_matrix.iloc[i, j] = 1\n",
    "            p_matrix.iloc[i, j] = 0\n",
    "            symbol_matrix.iloc[i, j] = '1'\n",
    "\n",
    "# Print correlation matrix\n",
    "print(\"Correlation matrix ($r):\")\n",
    "print(r_matrix.round(2), end='\\n\\n')\n",
    "\n",
    "# Print p-values matrix\n",
    "print(\"P-value matrix ($p):\")\n",
    "print(p_matrix.applymap(lambda x: f\"{x:.1e}\"), end='\\n\\n')\n",
    "\n",
    "# Print symbol matrix\n",
    "print(\"Symbolic correlation matrix ($sym):\")\n",
    "print(symbol_matrix, end='\\n\\n')\n",
    "\n",
    "# Print legend\n",
    "print(\"Legend:\")\n",
    "print(\"0 ‘ ’  0.3 ‘.’  0.6 ‘,’  0.8 ‘+’  0.9 ‘*’  0.95 ‘B’  1\")\n",
    "\n",
    "# Optional: visual heatmap of $r\n",
    "plt.figure(figsize=(10, 8))\n",
    "sns.heatmap(r_matrix, annot=True, fmt=\".2f\", cmap=\"coolwarm\", square=True, linewidths=0.5)\n",
    "plt.title(\"Correlation Matrix\")\n",
    "plt.tight_layout()\n",
    "plt.show()\n"
   ]
  },
  {
   "cell_type": "code",
   "execution_count": 26,
   "id": "a3b85f05",
   "metadata": {},
   "outputs": [
    {
     "name": "stdout",
     "output_type": "stream",
     "text": [
      "const         39.935861\n",
      "horsepower    -0.157845\n",
      "dtype: float64\n"
     ]
    }
   ],
   "source": [
    "import statsmodels.api as sm\n",
    "\n",
    "def boot_fn(data, indices):\n",
    "    sample = data.iloc[indices]\n",
    "    X = sm.add_constant(sample['horsepower'])\n",
    "    y = sample['mpg']\n",
    "    model = sm.OLS(y, X).fit()\n",
    "    return model.params  \n",
    "\n",
    "indices = list(range(len(df)))\n",
    "coefficients = boot_fn(df, indices)\n",
    "\n",
    "print(coefficients)\n"
   ]
  },
  {
   "cell_type": "markdown",
   "id": "7d2047b2",
   "metadata": {},
   "source": [
    "The boot.fn() function can also be used in order to create bootstrap estimates for the\n",
    "intercept and slope terms by randomly sampling from among the observations with\n",
    "replacement. Here two examples where the sample() function creates different training\n",
    "data sets based on the original Auto data.\n"
   ]
  },
  {
   "cell_type": "code",
   "execution_count": 27,
   "id": "b8ce655a",
   "metadata": {},
   "outputs": [
    {
     "name": "stdout",
     "output_type": "stream",
     "text": [
      "const         39.658479\n",
      "horsepower    -0.155898\n",
      "dtype: float64\n",
      "const         40.733271\n",
      "horsepower    -0.163901\n",
      "dtype: float64\n"
     ]
    }
   ],
   "source": [
    "np.random.seed(1)\n",
    "\n",
    "indices1 = np.random.choice(range(len(df)), size=len(df), replace=True)\n",
    "print(boot_fn(df, indices1))\n",
    "\n",
    "indices2 = np.random.choice(range(len(df)), size=len(df), replace=True)\n",
    "print(boot_fn(df, indices2))\n"
   ]
  },
  {
   "cell_type": "markdown",
   "id": "5275ef45",
   "metadata": {},
   "source": [
    "Next, we use the boot() function to compute the standard errors of bootstrap\n",
    "estimates for the intercept and slope terms."
   ]
  },
  {
   "cell_type": "code",
   "execution_count": 28,
   "id": "a9a1a9e6",
   "metadata": {},
   "outputs": [
    {
     "name": "stdout",
     "output_type": "stream",
     "text": [
      "Bootstrap results (1000 iterations):\n",
      "Original: Intercept = 39.935861, Slope = -0.157845\n",
      "Bias:     Intercept = 0.027524, Slope = -0.000461\n",
      "Std Err:  Intercept = 0.825266, Slope = 0.007136\n"
     ]
    }
   ],
   "source": [
    "\n",
    "n_bootstraps = 1000\n",
    "boot_results = np.zeros((n_bootstraps, 2))\n",
    "\n",
    "np.random.seed(1) \n",
    "\n",
    "for i in range(n_bootstraps):\n",
    "    indices = np.random.choice(range(len(df)), size=len(df), replace=True)\n",
    "    params = boot_fn(df, indices)\n",
    "    boot_results[i] = params.values \n",
    "\n",
    "\n",
    "boot_means = boot_results.mean(axis=0)\n",
    "boot_std = boot_results.std(axis=0)\n",
    "\n",
    "print(\"Bootstrap results (1000 iterations):\")\n",
    "print(f\"Original: Intercept = {coefficients.iloc[0]:.6f}, Slope = {coefficients.iloc[1]:.6f}\")\n",
    "print(f\"Bias:     Intercept = {boot_means[0] - coefficients.iloc[0]:.6f}, Slope = {boot_means[1] - coefficients.iloc[1]:.6f}\")\n",
    "print(f\"Std Err:  Intercept = {boot_std[0]:.6f}, Slope = {boot_std[1]:.6f}\")\n"
   ]
  },
  {
   "cell_type": "markdown",
   "id": "32cb8d6e",
   "metadata": {},
   "source": [
    "This indicates that the bootstrap estimate for , and that the bootstrap\n",
    "estimate for .\n",
    "Statistic formulas can be used to compute the standard errors for the regression coefficients\n",
    "in a linear model. In R these can be obtained using the summary() function on the\n",
    "results of the fitted logistic regression model.\n"
   ]
  },
  {
   "cell_type": "code",
   "execution_count": 29,
   "id": "d758098c",
   "metadata": {},
   "outputs": [
    {
     "name": "stdout",
     "output_type": "stream",
     "text": [
      "                            OLS Regression Results                            \n",
      "==============================================================================\n",
      "Dep. Variable:                    mpg   R-squared:                       0.606\n",
      "Model:                            OLS   Adj. R-squared:                  0.605\n",
      "Method:                 Least Squares   F-statistic:                     599.7\n",
      "Date:                Sun, 11 May 2025   Prob (F-statistic):           7.03e-81\n",
      "Time:                        22:24:04   Log-Likelihood:                -1178.7\n",
      "No. Observations:                 392   AIC:                             2361.\n",
      "Df Residuals:                     390   BIC:                             2369.\n",
      "Df Model:                           1                                         \n",
      "Covariance Type:            nonrobust                                         \n",
      "==============================================================================\n",
      "                 coef    std err          t      P>|t|      [0.025      0.975]\n",
      "------------------------------------------------------------------------------\n",
      "const         39.9359      0.717     55.660      0.000      38.525      41.347\n",
      "horsepower    -0.1578      0.006    -24.489      0.000      -0.171      -0.145\n",
      "==============================================================================\n",
      "Omnibus:                       16.432   Durbin-Watson:                   0.920\n",
      "Prob(Omnibus):                  0.000   Jarque-Bera (JB):               17.305\n",
      "Skew:                           0.492   Prob(JB):                     0.000175\n",
      "Kurtosis:                       3.299   Cond. No.                         322.\n",
      "==============================================================================\n",
      "\n",
      "Notes:\n",
      "[1] Standard Errors assume that the covariance matrix of the errors is correctly specified.\n"
     ]
    }
   ],
   "source": [
    "import statsmodels.api as sm\n",
    "\n",
    "# Fit linear model: mpg ~ horsepower\n",
    "X = sm.add_constant(df['horsepower'])\n",
    "y = df['mpg']\n",
    "model = sm.OLS(y, X).fit()\n",
    "\n",
    "# Print regression summary\n",
    "print(model.summary())\n"
   ]
  },
  {
   "cell_type": "markdown",
   "id": "e884f8d8",
   "metadata": {},
   "source": [
    "This indicates that the standard error for , and that the bootstrap estimate for\n",
    ".\n",
    "SE(𝛽0\n",
    ") = 0.72\n",
    "SE(𝛽1\n",
    ") = 0.0064"
   ]
  },
  {
   "cell_type": "markdown",
   "id": "d17919f5",
   "metadata": {},
   "source": [
    " From the correlation matrix, we observed strong linear relationships between mpg and several predictors like horsepower, displacement, weight, and cylinders. These patterns gave us reason to suspect that linear relationships were present in the data, but possibly with complexity or redundancy among predictors.\n",
    "\n",
    "then fitted a simple linear regression model to predict mpg using only horsepower. The model yielded interpretable coefficients: an intercept of about 39.94 and a slope of -0.158, indicating that mpg tends to decrease as horsepower increases. then i calculated standard errors for these coefficients using the traditional OLS approach, which assumes a linear relationship, constant variance (homoskedasticity), and normally distributed residuals. According to OLS, the standard errors were 0.72 for the intercept and 0.0064 for the slope.\n",
    "\n",
    "To test how reliable those estimates were, i then implemented a bootstrap procedure—sampling with replacement and refitting the model 1,000 times. The standard errors produced by this non-parametric method were noticeably larger: 0.83 for the intercept and 0.0071 for the slope. Although the coefficient estimates themselves remained stable, the bootstrap revealed greater uncertainty around them than the OLS method suggested.\n",
    "\n",
    "This difference between the two methods is meaningful. The fact that the bootstrap estimates higher variability indicates that at least one of the assumptions underlying the OLS model may be violated. The most likely issue is that the relationship between mpg and horsepower isn’t perfectly linear; rather, it may contain curvature or other forms of non-linearity that the linear model can’t capture. Since the OLS method relies on model correctness for valid standard errors, it underestimates the true variability in this case.\n",
    "\n",
    "Therefore, the bootstrap approach gives a more realistic estimate of standard error in the presence of potential non-linearity or other violations of linear regression assumptions. This suggests that the simple linear model we fit does not fully capture the underlying structure in the data, and that a more flexible model—perhaps including non-linear terms or transformations—would better reflect the true relationship.\n"
   ]
  },
  {
   "cell_type": "markdown",
   "id": "686baf8a",
   "metadata": {},
   "source": [
    "## Estimating the Accuracy of a Quadratic Regression Model\n",
    "Below the bootstrap standard error estimates and the standard linear regression estimates\n",
    "that result from fitting the quadratic model to the data. Since this model provides a good fit\n",
    "to the data, there is now a better correspondence between the bootstrap estimates of\n",
    "SE(𝛽 ), , and .\n",
    "̂ \n",
    "0 SE(𝛽 )\n",
    "̂ \n",
    "1 SE(𝛽 )"
   ]
  },
  {
   "cell_type": "code",
   "execution_count": 30,
   "id": "8c7c7ad9",
   "metadata": {},
   "outputs": [
    {
     "name": "stdout",
     "output_type": "stream",
     "text": [
      "Quadratic Model Bootstrap Results (1000 iterations):\n",
      "Original Coefficients:\n",
      "  Intercept       = 56.900100\n",
      "  horsepower      = -0.466190\n",
      "  horsepower^2    = 0.001231\n",
      "\n",
      "Bootstrap Std Errors:\n",
      "  Intercept       = 2.102325\n",
      "  horsepower      = 0.033502\n",
      "  horsepower^2    = 0.000121\n",
      "                            OLS Regression Results                            \n",
      "==============================================================================\n",
      "Dep. Variable:                    mpg   R-squared:                       0.688\n",
      "Model:                            OLS   Adj. R-squared:                  0.686\n",
      "Method:                 Least Squares   F-statistic:                     428.0\n",
      "Date:                Sun, 11 May 2025   Prob (F-statistic):           5.40e-99\n",
      "Time:                        22:24:06   Log-Likelihood:                -1133.2\n",
      "No. Observations:                 392   AIC:                             2272.\n",
      "Df Residuals:                     389   BIC:                             2284.\n",
      "Df Model:                           2                                         \n",
      "Covariance Type:            nonrobust                                         \n",
      "======================================================================================\n",
      "                         coef    std err          t      P>|t|      [0.025      0.975]\n",
      "--------------------------------------------------------------------------------------\n",
      "const                 56.9001      1.800     31.604      0.000      53.360      60.440\n",
      "horsepower            -0.4662      0.031    -14.978      0.000      -0.527      -0.405\n",
      "horsepower_squared     0.0012      0.000     10.080      0.000       0.001       0.001\n",
      "==============================================================================\n",
      "Omnibus:                       16.158   Durbin-Watson:                   1.078\n",
      "Prob(Omnibus):                  0.000   Jarque-Bera (JB):               30.662\n",
      "Skew:                           0.218   Prob(JB):                     2.20e-07\n",
      "Kurtosis:                       4.299   Cond. No.                     1.29e+05\n",
      "==============================================================================\n",
      "\n",
      "Notes:\n",
      "[1] Standard Errors assume that the covariance matrix of the errors is correctly specified.\n",
      "[2] The condition number is large, 1.29e+05. This might indicate that there are\n",
      "strong multicollinearity or other numerical problems.\n"
     ]
    }
   ],
   "source": [
    "def boot_fn_quad(data, indices):\n",
    "    sample = data.iloc[indices]\n",
    "    X = sample[['horsepower']].copy()\n",
    "    X['horsepower_squared'] = X['horsepower'] ** 2\n",
    "    X = sm.add_constant(X)\n",
    "    y = sample['mpg']\n",
    "    model = sm.OLS(y, X).fit()\n",
    "    return model.params\n",
    "n_bootstraps = 1000\n",
    "boot_results_quad = np.zeros((n_bootstraps, 3))  # Intercept, horsepower, horsepower^2\n",
    "\n",
    "np.random.seed(1)\n",
    "\n",
    "for i in range(n_bootstraps):\n",
    "    indices = np.random.choice(range(len(df)), size=len(df), replace=True)\n",
    "    params = boot_fn_quad(df, indices)\n",
    "    boot_results_quad[i] = params.values\n",
    "\n",
    "boot_means_quad = boot_results_quad.mean(axis=0)\n",
    "boot_std_quad = boot_results_quad.std(axis=0)\n",
    "coefficients_quad = boot_fn_quad(df, list(range(len(df))))\n",
    "\n",
    "print(\"Quadratic Model Bootstrap Results (1000 iterations):\")\n",
    "print(f\"Original Coefficients:\")\n",
    "print(f\"  Intercept       = {coefficients_quad.iloc[0]:.6f}\")\n",
    "print(f\"  horsepower      = {coefficients_quad.iloc[1]:.6f}\")\n",
    "print(f\"  horsepower^2    = {coefficients_quad.iloc[2]:.6f}\\n\")\n",
    "\n",
    "print(f\"Bootstrap Std Errors:\")\n",
    "print(f\"  Intercept       = {boot_std_quad[0]:.6f}\")\n",
    "print(f\"  horsepower      = {boot_std_quad[1]:.6f}\")\n",
    "print(f\"  horsepower^2    = {boot_std_quad[2]:.6f}\")\n",
    "X = df[['horsepower']].copy()\n",
    "X['horsepower_squared'] = X['horsepower'] ** 2\n",
    "X = sm.add_constant(X)\n",
    "y = df['mpg']\n",
    "\n",
    "model_quad = sm.OLS(y, X).fit()\n",
    "print(model_quad.summary())\n"
   ]
  },
  {
   "cell_type": "markdown",
   "id": "f0125b7f",
   "metadata": {},
   "source": [
    "Compare again differences in the standard errors between the bootstrap estimates and the\n",
    "statistic estimates of SE(𝛽 ), , and . 0 SE(𝛽 )1 SE(𝛽 )2"
   ]
  },
  {
   "cell_type": "markdown",
   "id": "bc061941",
   "metadata": {},
   "source": [
    "### Summary of Results\n",
    "\n",
    "In this experiment, we fitted a **quadratic regression model** to predict `mpg` based on both `horsepower` and `horsepower²`, and then compared the **standard errors** estimated via two methods:\n",
    "\n",
    "| Coefficient      | OLS Estimate | OLS Std. Error | Bootstrap Std. Error |\n",
    "| ---------------- | ------------ | -------------- | -------------------- |\n",
    "| Intercept (β₀)   | 56.9001      | 1.8004         | 2.1023               |\n",
    "| Horsepower (β₁)  | -0.4662      | 0.0311         | 0.0335               |\n",
    "| Horsepower² (β₂) | 0.001231     | 0.000122       | 0.000121             |\n",
    "\n",
    "### Interpretation\n",
    "\n",
    "In contrast to the earlier linear model, the quadratic regression provides a **much better fit** to the data, increasing the R² from about **0.606** to **0.688**. This suggests that the relationship between horsepower and fuel efficiency (mpg) is not perfectly linear — instead, the effect of horsepower on mpg **slows down** or **curves** as horsepower increases.\n",
    "\n",
    "When comparing **standard errors**, we see that the estimates from **OLS and bootstrap now closely align** across all three coefficients. For instance:\n",
    "\n",
    "* The bootstrap and OLS SEs for `horsepower` are 0.0335 vs. 0.0311.\n",
    "* For `horsepower²`, they are essentially identical at ≈0.000121–0.000122.\n",
    "\n",
    "This **tight agreement** tells us something important:\n",
    "The quadratic model not only fits the data better in terms of explained variance, but it also **meets the assumptions of the OLS model more closely**. Unlike the linear model, where bootstrap SEs were clearly larger (signaling potential model misfit), the match here confirms that the residuals behave more like what OLS assumes — with stable variance and reasonably correct functional form.\n",
    "\n",
    "The warning about a **high condition number (\\~129,000)** reflects multicollinearity between `horsepower` and `horsepower²`, which is expected when including polynomial terms. However, it doesn't invalidate the model — it's just a caution that coefficients may become unstable or overly sensitive to small changes in data. Regularization or centering the predictors can help if this becomes a practical issue.\n",
    "\n",
    "### Conclusion\n",
    "\n",
    "By moving from a linear to a quadratic model, we captured more of the real structure in the data. The improved agreement between bootstrap and OLS standard errors supports the claim that this new model is a **better fit**, and the standard errors it reports can now be trusted more. This demonstrates how bootstrapping can be used not just to estimate uncertainty but also to diagnose and validate the quality of a model.\n"
   ]
  }
 ],
 "metadata": {
  "kernelspec": {
   "display_name": "Python 3",
   "language": "python",
   "name": "python3"
  },
  "language_info": {
   "codemirror_mode": {
    "name": "ipython",
    "version": 3
   },
   "file_extension": ".py",
   "mimetype": "text/x-python",
   "name": "python",
   "nbconvert_exporter": "python",
   "pygments_lexer": "ipython3",
   "version": "3.10.11"
  }
 },
 "nbformat": 4,
 "nbformat_minor": 5
}
